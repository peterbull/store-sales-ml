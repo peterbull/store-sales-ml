{
 "cells": [
  {
   "cell_type": "code",
   "execution_count": 1,
   "metadata": {},
   "outputs": [],
   "source": [
    "#|default_exp app"
   ]
  },
  {
   "cell_type": "code",
   "execution_count": 2,
   "metadata": {},
   "outputs": [],
   "source": [
    "#| export\n",
    "from fastai.tabular.all import *\n",
    "from fastbook import *\n",
    "\n",
    "from sklearn.ensemble import RandomForestRegressor\n",
    "from sklearn.tree import DecisionTreeRegressor\n",
    "from sklearn.preprocessing import LabelEncoder\n",
    "from sklearn.metrics import mean_squared_log_error\n",
    "\n",
    "import seaborn as sns\n",
    "\n",
    "from dtreeviz.trees import *\n",
    "import dtreeviz\n",
    "\n",
    "from treeinterpreter import treeinterpreter as ti\n",
    "import waterfall_chart\n",
    "\n",
    "from fastprogress import master_bar, progress_bar\n",
    "from fastprogress.fastprogress import force_console_behavior\n"
   ]
  },
  {
   "cell_type": "code",
   "execution_count": 3,
   "metadata": {},
   "outputs": [],
   "source": [
    "master_bar, progress_bar = force_console_behavior()"
   ]
  },
  {
   "cell_type": "code",
   "execution_count": 4,
   "metadata": {},
   "outputs": [],
   "source": [
    "#| export\n",
    "iskaggle = os.environ.get('KAGGLE_KERNEL_RUN_TYPE', '')\n",
    "creds = ''"
   ]
  },
  {
   "cell_type": "code",
   "execution_count": 5,
   "metadata": {},
   "outputs": [],
   "source": [
    "#| export\n",
    "cred_path = Path('~/.kaggle/kaggle.json').expanduser()\n",
    "if not cred_path.exists():\n",
    "    cred_path.parent.mkdir(exist_ok=True)\n",
    "    cred_path.write_text(creds)\n",
    "    cred_path.chmod(0o600)"
   ]
  },
  {
   "cell_type": "code",
   "execution_count": 6,
   "metadata": {},
   "outputs": [],
   "source": [
    "#| export\n",
    "path = Path('store-sales-time-series-forecasting')"
   ]
  },
  {
   "cell_type": "code",
   "execution_count": 7,
   "metadata": {},
   "outputs": [],
   "source": [
    "#| export\n",
    "if not iskaggle and not path.exists():\n",
    "    import zipfile, kaggle\n",
    "    kaggle.api.competition_download_cli(str(path))    \n",
    "    zipfile.ZipFile(f'{path}.zip').extractall(path)\n"
   ]
  },
  {
   "cell_type": "code",
   "execution_count": 8,
   "metadata": {},
   "outputs": [],
   "source": [
    "#| export\n",
    "if iskaggle:\n",
    "    path = Path('../input/store-sales-time-series-forecasting')\n",
    "    ! pip install -q dataset"
   ]
  },
  {
   "attachments": {},
   "cell_type": "markdown",
   "metadata": {},
   "source": [
    "Import CSVs as dataframes"
   ]
  },
  {
   "cell_type": "code",
   "execution_count": 9,
   "metadata": {},
   "outputs": [],
   "source": [
    "#| export\n",
    "train_df = pd.read_csv(path/'train.csv', low_memory=False)\n",
    "test_df = pd.read_csv(path/'test.csv', low_memory=False)\n",
    "sub_df = pd.read_csv(path/'sample_submission.csv', low_memory=False)\n",
    "stores_df = pd.read_csv(path/'stores.csv', low_memory=False)\n",
    "oil_df = pd.read_csv(path/'oil.csv', low_memory=False)\n",
    "hol_events_df = pd.read_csv(path/'holidays_events.csv', low_memory=False)\n",
    "transactions_df = pd.read_csv(path/'transactions.csv', low_memory=False)"
   ]
  },
  {
   "attachments": {},
   "cell_type": "markdown",
   "metadata": {},
   "source": [
    "Combine training and test set for parrallel data transforms - to be split later before training"
   ]
  },
  {
   "cell_type": "code",
   "execution_count": 10,
   "metadata": {},
   "outputs": [],
   "source": [
    "#| export\n",
    "combined_df = pd.concat([train_df, test_df]).reset_index()"
   ]
  },
  {
   "cell_type": "code",
   "execution_count": 11,
   "metadata": {},
   "outputs": [
    {
     "data": {
      "text/plain": [
       "(3029400, 7)"
      ]
     },
     "execution_count": 11,
     "metadata": {},
     "output_type": "execute_result"
    }
   ],
   "source": [
    "combined_df.shape"
   ]
  },
  {
   "attachments": {},
   "cell_type": "markdown",
   "metadata": {},
   "source": [
    "Create `test_indexes` to split the dataframe later"
   ]
  },
  {
   "cell_type": "code",
   "execution_count": 12,
   "metadata": {},
   "outputs": [],
   "source": [
    "#| export\n",
    "test_idxs = combined_df.index[(combined_df.index > train_df.index.max())] "
   ]
  },
  {
   "attachments": {},
   "cell_type": "markdown",
   "metadata": {},
   "source": [
    "Create Index values for training and validation sets"
   ]
  },
  {
   "cell_type": "code",
   "execution_count": 13,
   "metadata": {},
   "outputs": [],
   "source": [
    "#| export\n",
    "train_idxs = combined_df.index[(combined_df.index < round(len(train_df) * 0.8))]"
   ]
  },
  {
   "cell_type": "code",
   "execution_count": 14,
   "metadata": {},
   "outputs": [],
   "source": [
    "#| export\n",
    "valid_idxs = combined_df.index[(combined_df.index > len(train_idxs)) & (combined_df.index < test_idxs.min())]"
   ]
  },
  {
   "cell_type": "code",
   "execution_count": 15,
   "metadata": {},
   "outputs": [
    {
     "data": {
      "text/plain": [
       "(3029400, 7)"
      ]
     },
     "execution_count": 15,
     "metadata": {},
     "output_type": "execute_result"
    }
   ],
   "source": [
    "combined_df.shape"
   ]
  },
  {
   "attachments": {},
   "cell_type": "markdown",
   "metadata": {},
   "source": [
    "Merge Oil Prices"
   ]
  },
  {
   "cell_type": "code",
   "execution_count": 16,
   "metadata": {},
   "outputs": [],
   "source": [
    "#| export\n",
    "combined_df = combined_df.merge(oil_df, on='date', how='left')"
   ]
  },
  {
   "attachments": {},
   "cell_type": "markdown",
   "metadata": {},
   "source": [
    "Merge Store Metadata"
   ]
  },
  {
   "cell_type": "code",
   "execution_count": 17,
   "metadata": {},
   "outputs": [],
   "source": [
    "#| export\n",
    "combined_df = combined_df.merge(stores_df, on='store_nbr', how='left')"
   ]
  },
  {
   "attachments": {},
   "cell_type": "markdown",
   "metadata": {},
   "source": [
    "Rename `type` column and Merge Observed Holidays"
   ]
  },
  {
   "cell_type": "code",
   "execution_count": 18,
   "metadata": {},
   "outputs": [],
   "source": [
    "#| export\n",
    "hol_events_df.rename(columns={'type': 'hol_type'}, inplace=True)"
   ]
  },
  {
   "cell_type": "code",
   "execution_count": 19,
   "metadata": {},
   "outputs": [],
   "source": [
    "# | export\n",
    "# combined_df = combined_df.merge(hol_events_df, on='date', how='left')"
   ]
  },
  {
   "attachments": {},
   "cell_type": "markdown",
   "metadata": {},
   "source": [
    "Convert `date` to datetime"
   ]
  },
  {
   "cell_type": "code",
   "execution_count": 20,
   "metadata": {},
   "outputs": [],
   "source": [
    "#| export\n",
    "combined_df['date'] = pd.to_datetime(combined_df['date'])"
   ]
  },
  {
   "attachments": {},
   "cell_type": "markdown",
   "metadata": {},
   "source": [
    "Block out a month for data affected by earthquake"
   ]
  },
  {
   "cell_type": "code",
   "execution_count": 21,
   "metadata": {},
   "outputs": [],
   "source": [
    "#| export\n",
    "eq_start_date = pd.to_datetime(\"2016-04-16\")\n",
    "eq_end_date = pd.to_datetime(\"2016-05-16\")"
   ]
  },
  {
   "cell_type": "code",
   "execution_count": 22,
   "metadata": {},
   "outputs": [],
   "source": [
    "#| export\n",
    "earthquake_cond = (combined_df.date >= eq_start_date) & (combined_df.date < eq_end_date)"
   ]
  },
  {
   "attachments": {},
   "cell_type": "markdown",
   "metadata": {},
   "source": [
    "Get indexes of items at earthquake dates - to be removed or transformed depending on model performance"
   ]
  },
  {
   "cell_type": "code",
   "execution_count": 23,
   "metadata": {},
   "outputs": [],
   "source": [
    "#| export\n",
    "earthquake_indexes = combined_df.index[earthquake_cond]"
   ]
  },
  {
   "attachments": {},
   "cell_type": "markdown",
   "metadata": {},
   "source": [
    "Convert `date` to mulitple date partition columns"
   ]
  },
  {
   "cell_type": "code",
   "execution_count": 24,
   "metadata": {},
   "outputs": [],
   "source": [
    "#| export\n",
    "combined_df = add_datepart(combined_df, 'date')"
   ]
  },
  {
   "attachments": {},
   "cell_type": "markdown",
   "metadata": {},
   "source": [
    "Drop rows at earthquake timeframe"
   ]
  },
  {
   "cell_type": "code",
   "execution_count": 25,
   "metadata": {},
   "outputs": [],
   "source": [
    "# #| export\n",
    "# combined_df.drop(earthquake_indexes, inplace=True)"
   ]
  },
  {
   "cell_type": "code",
   "execution_count": 26,
   "metadata": {},
   "outputs": [],
   "source": [
    "dep_var = 'sales'"
   ]
  },
  {
   "cell_type": "code",
   "execution_count": 27,
   "metadata": {},
   "outputs": [],
   "source": [
    "#| export\n",
    "combined_df[dep_var] = np.log(combined_df[dep_var] + 1e-5)"
   ]
  },
  {
   "cell_type": "code",
   "execution_count": 28,
   "metadata": {},
   "outputs": [],
   "source": [
    "#| export\n",
    "procs = [Categorify, FillMissing, Normalize]"
   ]
  },
  {
   "cell_type": "code",
   "execution_count": 29,
   "metadata": {},
   "outputs": [],
   "source": [
    "#| export\n",
    "cont, cat = cont_cat_split(combined_df, 1, dep_var=dep_var)"
   ]
  },
  {
   "cell_type": "code",
   "execution_count": 30,
   "metadata": {},
   "outputs": [],
   "source": [
    "#| export\n",
    "train_val_splits = (list(train_idxs), list(valid_idxs))"
   ]
  },
  {
   "cell_type": "code",
   "execution_count": 31,
   "metadata": {},
   "outputs": [],
   "source": [
    "#| export\n",
    "to = TabularPandas(combined_df, procs, cat, cont, y_names=dep_var, splits=train_val_splits)"
   ]
  },
  {
   "cell_type": "code",
   "execution_count": 35,
   "metadata": {},
   "outputs": [
    {
     "data": {
      "text/plain": [
       "3000887"
      ]
     },
     "execution_count": 35,
     "metadata": {},
     "output_type": "execute_result"
    }
   ],
   "source": [
    "len(to.train.xs) + len(to.valid.xs)"
   ]
  },
  {
   "cell_type": "code",
   "execution_count": 33,
   "metadata": {},
   "outputs": [
    {
     "data": {
      "text/html": [
       "<div>\n",
       "<style scoped>\n",
       "    .dataframe tbody tr th:only-of-type {\n",
       "        vertical-align: middle;\n",
       "    }\n",
       "\n",
       "    .dataframe tbody tr th {\n",
       "        vertical-align: top;\n",
       "    }\n",
       "\n",
       "    .dataframe thead th {\n",
       "        text-align: right;\n",
       "    }\n",
       "</style>\n",
       "<table border=\"1\" class=\"dataframe\">\n",
       "  <thead>\n",
       "    <tr style=\"text-align: right;\">\n",
       "      <th></th>\n",
       "      <th>family</th>\n",
       "      <th>city</th>\n",
       "      <th>state</th>\n",
       "      <th>type</th>\n",
       "      <th>Is_month_end</th>\n",
       "      <th>Is_month_start</th>\n",
       "      <th>Is_quarter_end</th>\n",
       "      <th>Is_quarter_start</th>\n",
       "      <th>Is_year_end</th>\n",
       "      <th>Is_year_start</th>\n",
       "      <th>dcoilwtico_na</th>\n",
       "      <th>index</th>\n",
       "      <th>id</th>\n",
       "      <th>store_nbr</th>\n",
       "      <th>onpromotion</th>\n",
       "      <th>dcoilwtico</th>\n",
       "      <th>cluster</th>\n",
       "      <th>Year</th>\n",
       "      <th>Month</th>\n",
       "      <th>Week</th>\n",
       "      <th>Day</th>\n",
       "      <th>Dayofweek</th>\n",
       "      <th>Dayofyear</th>\n",
       "      <th>Elapsed</th>\n",
       "    </tr>\n",
       "  </thead>\n",
       "  <tbody>\n",
       "    <tr>\n",
       "      <th>2400711</th>\n",
       "      <td>28</td>\n",
       "      <td>8</td>\n",
       "      <td>2</td>\n",
       "      <td>3</td>\n",
       "      <td>1</td>\n",
       "      <td>1</td>\n",
       "      <td>1</td>\n",
       "      <td>1</td>\n",
       "      <td>1</td>\n",
       "      <td>1</td>\n",
       "      <td>1</td>\n",
       "      <td>1.732053</td>\n",
       "      <td>1.732053</td>\n",
       "      <td>-0.545235</td>\n",
       "      <td>-0.154124</td>\n",
       "      <td>-1.265877</td>\n",
       "      <td>1.401758</td>\n",
       "      <td>1.508730</td>\n",
       "      <td>0.845244</td>\n",
       "      <td>0.812129</td>\n",
       "      <td>-0.411672</td>\n",
       "      <td>-1.500057</td>\n",
       "      <td>0.820176</td>\n",
       "      <td>1.732327</td>\n",
       "    </tr>\n",
       "    <tr>\n",
       "      <th>2400712</th>\n",
       "      <td>29</td>\n",
       "      <td>8</td>\n",
       "      <td>2</td>\n",
       "      <td>3</td>\n",
       "      <td>1</td>\n",
       "      <td>1</td>\n",
       "      <td>1</td>\n",
       "      <td>1</td>\n",
       "      <td>1</td>\n",
       "      <td>1</td>\n",
       "      <td>1</td>\n",
       "      <td>1.732054</td>\n",
       "      <td>1.732054</td>\n",
       "      <td>-0.545235</td>\n",
       "      <td>-0.154124</td>\n",
       "      <td>-1.265877</td>\n",
       "      <td>1.401758</td>\n",
       "      <td>1.508730</td>\n",
       "      <td>0.845244</td>\n",
       "      <td>0.812129</td>\n",
       "      <td>-0.411672</td>\n",
       "      <td>-1.500057</td>\n",
       "      <td>0.820176</td>\n",
       "      <td>1.732327</td>\n",
       "    </tr>\n",
       "    <tr>\n",
       "      <th>2400713</th>\n",
       "      <td>30</td>\n",
       "      <td>8</td>\n",
       "      <td>2</td>\n",
       "      <td>3</td>\n",
       "      <td>1</td>\n",
       "      <td>1</td>\n",
       "      <td>1</td>\n",
       "      <td>1</td>\n",
       "      <td>1</td>\n",
       "      <td>1</td>\n",
       "      <td>1</td>\n",
       "      <td>1.732056</td>\n",
       "      <td>1.732056</td>\n",
       "      <td>-0.545235</td>\n",
       "      <td>-0.049185</td>\n",
       "      <td>-1.265877</td>\n",
       "      <td>1.401758</td>\n",
       "      <td>1.508730</td>\n",
       "      <td>0.845244</td>\n",
       "      <td>0.812129</td>\n",
       "      <td>-0.411672</td>\n",
       "      <td>-1.500057</td>\n",
       "      <td>0.820176</td>\n",
       "      <td>1.732327</td>\n",
       "    </tr>\n",
       "    <tr>\n",
       "      <th>2400714</th>\n",
       "      <td>31</td>\n",
       "      <td>8</td>\n",
       "      <td>2</td>\n",
       "      <td>3</td>\n",
       "      <td>1</td>\n",
       "      <td>1</td>\n",
       "      <td>1</td>\n",
       "      <td>1</td>\n",
       "      <td>1</td>\n",
       "      <td>1</td>\n",
       "      <td>1</td>\n",
       "      <td>1.732057</td>\n",
       "      <td>1.732057</td>\n",
       "      <td>-0.545235</td>\n",
       "      <td>-0.049185</td>\n",
       "      <td>-1.265877</td>\n",
       "      <td>1.401758</td>\n",
       "      <td>1.508730</td>\n",
       "      <td>0.845244</td>\n",
       "      <td>0.812129</td>\n",
       "      <td>-0.411672</td>\n",
       "      <td>-1.500057</td>\n",
       "      <td>0.820176</td>\n",
       "      <td>1.732327</td>\n",
       "    </tr>\n",
       "    <tr>\n",
       "      <th>2400715</th>\n",
       "      <td>32</td>\n",
       "      <td>8</td>\n",
       "      <td>2</td>\n",
       "      <td>3</td>\n",
       "      <td>1</td>\n",
       "      <td>1</td>\n",
       "      <td>1</td>\n",
       "      <td>1</td>\n",
       "      <td>1</td>\n",
       "      <td>1</td>\n",
       "      <td>1</td>\n",
       "      <td>1.732059</td>\n",
       "      <td>1.732059</td>\n",
       "      <td>-0.545235</td>\n",
       "      <td>-0.154124</td>\n",
       "      <td>-1.265877</td>\n",
       "      <td>1.401758</td>\n",
       "      <td>1.508730</td>\n",
       "      <td>0.845244</td>\n",
       "      <td>0.812129</td>\n",
       "      <td>-0.411672</td>\n",
       "      <td>-1.500057</td>\n",
       "      <td>0.820176</td>\n",
       "      <td>1.732327</td>\n",
       "    </tr>\n",
       "    <tr>\n",
       "      <th>...</th>\n",
       "      <td>...</td>\n",
       "      <td>...</td>\n",
       "      <td>...</td>\n",
       "      <td>...</td>\n",
       "      <td>...</td>\n",
       "      <td>...</td>\n",
       "      <td>...</td>\n",
       "      <td>...</td>\n",
       "      <td>...</td>\n",
       "      <td>...</td>\n",
       "      <td>...</td>\n",
       "      <td>...</td>\n",
       "      <td>...</td>\n",
       "      <td>...</td>\n",
       "      <td>...</td>\n",
       "      <td>...</td>\n",
       "      <td>...</td>\n",
       "      <td>...</td>\n",
       "      <td>...</td>\n",
       "      <td>...</td>\n",
       "      <td>...</td>\n",
       "      <td>...</td>\n",
       "      <td>...</td>\n",
       "      <td>...</td>\n",
       "    </tr>\n",
       "    <tr>\n",
       "      <th>3000883</th>\n",
       "      <td>29</td>\n",
       "      <td>19</td>\n",
       "      <td>13</td>\n",
       "      <td>2</td>\n",
       "      <td>1</td>\n",
       "      <td>1</td>\n",
       "      <td>1</td>\n",
       "      <td>1</td>\n",
       "      <td>1</td>\n",
       "      <td>1</td>\n",
       "      <td>1</td>\n",
       "      <td>2.598070</td>\n",
       "      <td>2.598070</td>\n",
       "      <td>-1.186848</td>\n",
       "      <td>-0.154124</td>\n",
       "      <td>-1.208063</td>\n",
       "      <td>-0.533776</td>\n",
       "      <td>2.439389</td>\n",
       "      <td>0.546526</td>\n",
       "      <td>0.539031</td>\n",
       "      <td>-0.071145</td>\n",
       "      <td>-1.000335</td>\n",
       "      <td>0.536316</td>\n",
       "      <td>2.596557</td>\n",
       "    </tr>\n",
       "    <tr>\n",
       "      <th>3000884</th>\n",
       "      <td>30</td>\n",
       "      <td>19</td>\n",
       "      <td>13</td>\n",
       "      <td>2</td>\n",
       "      <td>1</td>\n",
       "      <td>1</td>\n",
       "      <td>1</td>\n",
       "      <td>1</td>\n",
       "      <td>1</td>\n",
       "      <td>1</td>\n",
       "      <td>1</td>\n",
       "      <td>2.598072</td>\n",
       "      <td>2.598072</td>\n",
       "      <td>-1.186848</td>\n",
       "      <td>-0.049185</td>\n",
       "      <td>-1.208063</td>\n",
       "      <td>-0.533776</td>\n",
       "      <td>2.439389</td>\n",
       "      <td>0.546526</td>\n",
       "      <td>0.539031</td>\n",
       "      <td>-0.071145</td>\n",
       "      <td>-1.000335</td>\n",
       "      <td>0.536316</td>\n",
       "      <td>2.596557</td>\n",
       "    </tr>\n",
       "    <tr>\n",
       "      <th>3000885</th>\n",
       "      <td>31</td>\n",
       "      <td>19</td>\n",
       "      <td>13</td>\n",
       "      <td>2</td>\n",
       "      <td>1</td>\n",
       "      <td>1</td>\n",
       "      <td>1</td>\n",
       "      <td>1</td>\n",
       "      <td>1</td>\n",
       "      <td>1</td>\n",
       "      <td>1</td>\n",
       "      <td>2.598073</td>\n",
       "      <td>2.598073</td>\n",
       "      <td>-1.186848</td>\n",
       "      <td>15.376781</td>\n",
       "      <td>-1.208063</td>\n",
       "      <td>-0.533776</td>\n",
       "      <td>2.439389</td>\n",
       "      <td>0.546526</td>\n",
       "      <td>0.539031</td>\n",
       "      <td>-0.071145</td>\n",
       "      <td>-1.000335</td>\n",
       "      <td>0.536316</td>\n",
       "      <td>2.596557</td>\n",
       "    </tr>\n",
       "    <tr>\n",
       "      <th>3000886</th>\n",
       "      <td>32</td>\n",
       "      <td>19</td>\n",
       "      <td>13</td>\n",
       "      <td>2</td>\n",
       "      <td>1</td>\n",
       "      <td>1</td>\n",
       "      <td>1</td>\n",
       "      <td>1</td>\n",
       "      <td>1</td>\n",
       "      <td>1</td>\n",
       "      <td>1</td>\n",
       "      <td>2.598075</td>\n",
       "      <td>2.598075</td>\n",
       "      <td>-1.186848</td>\n",
       "      <td>0.685385</td>\n",
       "      <td>-1.208063</td>\n",
       "      <td>-0.533776</td>\n",
       "      <td>2.439389</td>\n",
       "      <td>0.546526</td>\n",
       "      <td>0.539031</td>\n",
       "      <td>-0.071145</td>\n",
       "      <td>-1.000335</td>\n",
       "      <td>0.536316</td>\n",
       "      <td>2.596557</td>\n",
       "    </tr>\n",
       "    <tr>\n",
       "      <th>3000887</th>\n",
       "      <td>33</td>\n",
       "      <td>19</td>\n",
       "      <td>13</td>\n",
       "      <td>2</td>\n",
       "      <td>1</td>\n",
       "      <td>1</td>\n",
       "      <td>1</td>\n",
       "      <td>1</td>\n",
       "      <td>1</td>\n",
       "      <td>1</td>\n",
       "      <td>1</td>\n",
       "      <td>2.598076</td>\n",
       "      <td>2.598076</td>\n",
       "      <td>-1.186848</td>\n",
       "      <td>-0.154124</td>\n",
       "      <td>-1.208063</td>\n",
       "      <td>-0.533776</td>\n",
       "      <td>2.439389</td>\n",
       "      <td>0.546526</td>\n",
       "      <td>0.539031</td>\n",
       "      <td>-0.071145</td>\n",
       "      <td>-1.000335</td>\n",
       "      <td>0.536316</td>\n",
       "      <td>2.596557</td>\n",
       "    </tr>\n",
       "  </tbody>\n",
       "</table>\n",
       "<p>600177 rows × 24 columns</p>\n",
       "</div>"
      ],
      "text/plain": [
       "         family  city  state  type  Is_month_end  Is_month_start  \\\n",
       "2400711      28     8      2     3             1               1   \n",
       "2400712      29     8      2     3             1               1   \n",
       "2400713      30     8      2     3             1               1   \n",
       "2400714      31     8      2     3             1               1   \n",
       "2400715      32     8      2     3             1               1   \n",
       "...         ...   ...    ...   ...           ...             ...   \n",
       "3000883      29    19     13     2             1               1   \n",
       "3000884      30    19     13     2             1               1   \n",
       "3000885      31    19     13     2             1               1   \n",
       "3000886      32    19     13     2             1               1   \n",
       "3000887      33    19     13     2             1               1   \n",
       "\n",
       "         Is_quarter_end  Is_quarter_start  Is_year_end  Is_year_start  \\\n",
       "2400711               1                 1            1              1   \n",
       "2400712               1                 1            1              1   \n",
       "2400713               1                 1            1              1   \n",
       "2400714               1                 1            1              1   \n",
       "2400715               1                 1            1              1   \n",
       "...                 ...               ...          ...            ...   \n",
       "3000883               1                 1            1              1   \n",
       "3000884               1                 1            1              1   \n",
       "3000885               1                 1            1              1   \n",
       "3000886               1                 1            1              1   \n",
       "3000887               1                 1            1              1   \n",
       "\n",
       "         dcoilwtico_na     index        id  store_nbr  onpromotion  \\\n",
       "2400711              1  1.732053  1.732053  -0.545235    -0.154124   \n",
       "2400712              1  1.732054  1.732054  -0.545235    -0.154124   \n",
       "2400713              1  1.732056  1.732056  -0.545235    -0.049185   \n",
       "2400714              1  1.732057  1.732057  -0.545235    -0.049185   \n",
       "2400715              1  1.732059  1.732059  -0.545235    -0.154124   \n",
       "...                ...       ...       ...        ...          ...   \n",
       "3000883              1  2.598070  2.598070  -1.186848    -0.154124   \n",
       "3000884              1  2.598072  2.598072  -1.186848    -0.049185   \n",
       "3000885              1  2.598073  2.598073  -1.186848    15.376781   \n",
       "3000886              1  2.598075  2.598075  -1.186848     0.685385   \n",
       "3000887              1  2.598076  2.598076  -1.186848    -0.154124   \n",
       "\n",
       "         dcoilwtico   cluster      Year     Month      Week       Day  \\\n",
       "2400711   -1.265877  1.401758  1.508730  0.845244  0.812129 -0.411672   \n",
       "2400712   -1.265877  1.401758  1.508730  0.845244  0.812129 -0.411672   \n",
       "2400713   -1.265877  1.401758  1.508730  0.845244  0.812129 -0.411672   \n",
       "2400714   -1.265877  1.401758  1.508730  0.845244  0.812129 -0.411672   \n",
       "2400715   -1.265877  1.401758  1.508730  0.845244  0.812129 -0.411672   \n",
       "...             ...       ...       ...       ...       ...       ...   \n",
       "3000883   -1.208063 -0.533776  2.439389  0.546526  0.539031 -0.071145   \n",
       "3000884   -1.208063 -0.533776  2.439389  0.546526  0.539031 -0.071145   \n",
       "3000885   -1.208063 -0.533776  2.439389  0.546526  0.539031 -0.071145   \n",
       "3000886   -1.208063 -0.533776  2.439389  0.546526  0.539031 -0.071145   \n",
       "3000887   -1.208063 -0.533776  2.439389  0.546526  0.539031 -0.071145   \n",
       "\n",
       "         Dayofweek  Dayofyear   Elapsed  \n",
       "2400711  -1.500057   0.820176  1.732327  \n",
       "2400712  -1.500057   0.820176  1.732327  \n",
       "2400713  -1.500057   0.820176  1.732327  \n",
       "2400714  -1.500057   0.820176  1.732327  \n",
       "2400715  -1.500057   0.820176  1.732327  \n",
       "...            ...        ...       ...  \n",
       "3000883  -1.000335   0.536316  2.596557  \n",
       "3000884  -1.000335   0.536316  2.596557  \n",
       "3000885  -1.000335   0.536316  2.596557  \n",
       "3000886  -1.000335   0.536316  2.596557  \n",
       "3000887  -1.000335   0.536316  2.596557  \n",
       "\n",
       "[600177 rows x 24 columns]"
      ]
     },
     "execution_count": 33,
     "metadata": {},
     "output_type": "execute_result"
    }
   ],
   "source": [
    "to.valid.xs"
   ]
  },
  {
   "cell_type": "code",
   "execution_count": null,
   "metadata": {},
   "outputs": [],
   "source": []
  },
  {
   "cell_type": "code",
   "execution_count": 34,
   "metadata": {},
   "outputs": [
    {
     "name": "stdout",
     "output_type": "stream",
     "text": [
      "export successful\n"
     ]
    }
   ],
   "source": [
    "import nbdev\n",
    "nbdev.export.nb_export('store_sales_2.ipynb', 'app')\n",
    "print('export successful')"
   ]
  }
 ],
 "metadata": {
  "kernelspec": {
   "display_name": "base",
   "language": "python",
   "name": "python3"
  },
  "language_info": {
   "codemirror_mode": {
    "name": "ipython",
    "version": 3
   },
   "file_extension": ".py",
   "mimetype": "text/x-python",
   "name": "python",
   "nbconvert_exporter": "python",
   "pygments_lexer": "ipython3",
   "version": "3.10.6"
  },
  "orig_nbformat": 4
 },
 "nbformat": 4,
 "nbformat_minor": 2
}
