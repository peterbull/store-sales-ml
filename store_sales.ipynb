{
 "cells": [
  {
   "attachments": {},
   "cell_type": "markdown",
   "metadata": {},
   "source": [
    "### Store Sales Forescasting"
   ]
  },
  {
   "attachments": {},
   "cell_type": "markdown",
   "metadata": {},
   "source": [
    "For the Kaggle competition [Store Sales](https://www.kaggle.com/competitions/store-sales-time-series-forecasting/overview)\n",
    "\n",
    "Forecast store sales based on data from Corporación Favorita, a large Ecuadorian-based grocery retailer."
   ]
  },
  {
   "attachments": {},
   "cell_type": "markdown",
   "metadata": {},
   "source": [
    "<b>train.csv</b>\n",
    "\n",
    "- The training data, comprising time series of features <b>store_nbr</b>, <b>family</b>, and <b>onpromotion</b> as well as the target <b>sales</b>.\n",
    "- <b>store_nbr</b> identifies the store at which the products are sold.\n",
    "- <b>family</b> identifies the type of product sold.\n",
    "- <b>sales</b> gives the total sales for a product family at a particular store at a given date. Fractional values are possible since products can be sold in fractional units (1.5 kg of cheese, for instance, as opposed to 1 bag of chips).\n",
    "- <b>onpromotion</b> gives the total number of items in a product family that were being promoted at a store at a given date.\n",
    "\n",
    "<b>test.csv</b>\n",
    "\n",
    "- The test data, having the same features as the training data. You will predict the target <b>sales</b> for the dates in this file.\n",
    "- The dates in the test data are for the 15 days after the last date in the training data.\n",
    "\n",
    "<b>sample_submission.csv</b>\n",
    "\n",
    "- A sample submission file in the correct format.\n",
    "\n",
    "<b>stores.csv</b>\n",
    "\n",
    "- Store metadata, including <b>city</b>, <b>state</b>, <b>type</b>, and <b>cluster</b>.\n",
    "- <b>cluster</b> is a grouping of similar stores.\n",
    "\n",
    "<b>oil.csv</b>\n",
    "\n",
    "- Daily oil price. Includes values during both the train and test data timeframes. (Ecuador is an oil-dependent country and it's economical health is highly vulnerable to shocks in oil prices.)\n",
    "\n",
    "<b>holidays_events.csv</b>\n",
    "\n",
    "- Holidays and Events, with metadata\n",
    "NOTE: Pay special attention to the <b>transferred</b> column. A holiday that is transferred officially falls on that calendar day, but was moved to another date by the government. A transferred day is more like a normal day than a holiday. To find the day that it was actually celebrated, look for the corresponding row where type is Transfer. For example, the holiday Independencia de Guayaquil was transferred from 2012-10-09 to 2012-10-12, which means it was celebrated on 2012-10-12. Days that are type Bridge are extra days that are added to a holiday (e.g., to extend the break across a long weekend). These are frequently made up by the type Work Day which is a day not normally scheduled for work (e.g., Saturday) that is meant to payback the Bridge.\n",
    "- Additional holidays are days added a regular calendar holiday, for example, as typically happens around Christmas (making Christmas Eve a holiday).\n",
    "\n",
    "<b>Additional Notes</b>\n",
    "\n",
    "- Wages in the public sector are paid every two weeks on the 15 th and on the last day of the month. Supermarket sales could be affected by this.\n",
    "- A magnitude 7.8 earthquake struck Ecuador on April 16, 2016. People rallied in relief efforts donating water and other first need products which greatly affected supermarket sales for several weeks after the earthquake."
   ]
  },
  {
   "attachments": {},
   "cell_type": "markdown",
   "metadata": {},
   "source": [
    "Scoring based on <b>RMSLE</b>"
   ]
  },
  {
   "cell_type": "code",
   "execution_count": 1,
   "metadata": {},
   "outputs": [],
   "source": [
    "#The Following cell of code is used everytime FASTAI library is used.\n",
    "#They tell the notebook to reload any changes made to any libraries used.\n",
    "#They also ensure that any graphs are plotted are shown in this notebook\n",
    "%reload_ext autoreload\n",
    "%autoreload 2\n",
    "%matplotlib inline"
   ]
  },
  {
   "cell_type": "code",
   "execution_count": 2,
   "metadata": {},
   "outputs": [],
   "source": [
    "from fastai.tabular.all import *\n",
    "from fastbook import *\n",
    "\n",
    "from sklearn.ensemble import RandomForestRegressor\n",
    "from sklearn.tree import DecisionTreeRegressor\n",
    "from sklearn.preprocessing import LabelEncoder\n",
    "from sklearn.metrics import mean_squared_log_error\n",
    "\n",
    "import seaborn as sns\n",
    "\n",
    "from dtreeviz.trees import *\n",
    "import dtreeviz"
   ]
  },
  {
   "cell_type": "code",
   "execution_count": 3,
   "metadata": {},
   "outputs": [],
   "source": [
    "#| export\n",
    "iskaggle = os.environ.get('KAGGLE_KERNEL_RUN_TYPE', '')\n",
    "creds = ''\n"
   ]
  },
  {
   "cell_type": "code",
   "execution_count": 4,
   "metadata": {},
   "outputs": [],
   "source": [
    "#| export\n",
    "cred_path = Path('~/.kaggle/kaggle.json').expanduser()\n",
    "if not cred_path.exists():\n",
    "    cred_path.parent.mkdir(exist_ok=True)\n",
    "    cred_path.write_text(creds)\n",
    "    cred_path.chmod(0o600)\n"
   ]
  },
  {
   "cell_type": "code",
   "execution_count": 5,
   "metadata": {},
   "outputs": [],
   "source": [
    "#| export\n",
    "path = Path('store-sales-time-series-forecasting')"
   ]
  },
  {
   "cell_type": "code",
   "execution_count": 6,
   "metadata": {},
   "outputs": [],
   "source": [
    "#| export\n",
    "if not iskaggle and not path.exists():\n",
    "    import zipfile, kaggle\n",
    "    kaggle.api.competition_download_cli(str(path))    \n",
    "    zipfile.ZipFile(f'{path}.zip').extractall(path)\n"
   ]
  },
  {
   "cell_type": "code",
   "execution_count": 7,
   "metadata": {},
   "outputs": [],
   "source": [
    "#| export\n",
    "if iskaggle:\n",
    "    path = Path('../input/store-sales-time-series-forecasting')\n",
    "    ! pip install -q dataset"
   ]
  },
  {
   "cell_type": "code",
   "execution_count": 8,
   "metadata": {},
   "outputs": [
    {
     "data": {
      "text/plain": [
       "[Path('store-sales-time-series-forecasting/sample_submission.csv'),\n",
       " Path('store-sales-time-series-forecasting/holidays_events.csv'),\n",
       " Path('store-sales-time-series-forecasting/oil.csv'),\n",
       " Path('store-sales-time-series-forecasting/test.csv'),\n",
       " Path('store-sales-time-series-forecasting/train.csv'),\n",
       " Path('store-sales-time-series-forecasting/transactions.csv'),\n",
       " Path('store-sales-time-series-forecasting/stores.csv')]"
      ]
     },
     "execution_count": 8,
     "metadata": {},
     "output_type": "execute_result"
    }
   ],
   "source": [
    "[x for x in path.ls()]"
   ]
  },
  {
   "cell_type": "code",
   "execution_count": 9,
   "metadata": {},
   "outputs": [],
   "source": [
    "train_df = pd.read_csv(path/'train.csv', low_memory=False)\n",
    "test_df = pd.read_csv(path/'test.csv', low_memory=False)\n",
    "sample_df = pd.read_csv(path/'sample_submission.csv', low_memory=False)\n",
    "stores_df = pd.read_csv(path/'stores.csv', low_memory=False)\n",
    "oil_df = pd.read_csv(path/'oil.csv', low_memory=False)\n",
    "hol_events_df = pd.read_csv(path/'holidays_events.csv', low_memory=False)\n",
    "transactions_df = pd.read_csv(path/'transactions.csv', low_memory=False)"
   ]
  },
  {
   "cell_type": "code",
   "execution_count": 10,
   "metadata": {},
   "outputs": [
    {
     "data": {
      "text/html": [
       "<div>\n",
       "<style scoped>\n",
       "    .dataframe tbody tr th:only-of-type {\n",
       "        vertical-align: middle;\n",
       "    }\n",
       "\n",
       "    .dataframe tbody tr th {\n",
       "        vertical-align: top;\n",
       "    }\n",
       "\n",
       "    .dataframe thead th {\n",
       "        text-align: right;\n",
       "    }\n",
       "</style>\n",
       "<table border=\"1\" class=\"dataframe\">\n",
       "  <thead>\n",
       "    <tr style=\"text-align: right;\">\n",
       "      <th></th>\n",
       "      <th>id</th>\n",
       "      <th>date</th>\n",
       "      <th>store_nbr</th>\n",
       "      <th>family</th>\n",
       "      <th>sales</th>\n",
       "      <th>onpromotion</th>\n",
       "    </tr>\n",
       "  </thead>\n",
       "  <tbody>\n",
       "    <tr>\n",
       "      <th>2483653</th>\n",
       "      <td>2483653</td>\n",
       "      <td>2016-10-28</td>\n",
       "      <td>46</td>\n",
       "      <td>CLEANING</td>\n",
       "      <td>2576.000</td>\n",
       "      <td>61</td>\n",
       "    </tr>\n",
       "    <tr>\n",
       "      <th>2761877</th>\n",
       "      <td>2761877</td>\n",
       "      <td>2017-04-03</td>\n",
       "      <td>52</td>\n",
       "      <td>DAIRY</td>\n",
       "      <td>0.000</td>\n",
       "      <td>0</td>\n",
       "    </tr>\n",
       "    <tr>\n",
       "      <th>1217988</th>\n",
       "      <td>1217988</td>\n",
       "      <td>2014-11-16</td>\n",
       "      <td>33</td>\n",
       "      <td>MEATS</td>\n",
       "      <td>357.354</td>\n",
       "      <td>2</td>\n",
       "    </tr>\n",
       "    <tr>\n",
       "      <th>1231938</th>\n",
       "      <td>1231938</td>\n",
       "      <td>2014-11-24</td>\n",
       "      <td>25</td>\n",
       "      <td>HOME AND KITCHEN I</td>\n",
       "      <td>5.000</td>\n",
       "      <td>0</td>\n",
       "    </tr>\n",
       "    <tr>\n",
       "      <th>528175</th>\n",
       "      <td>528175</td>\n",
       "      <td>2013-10-24</td>\n",
       "      <td>29</td>\n",
       "      <td>EGGS</td>\n",
       "      <td>0.000</td>\n",
       "      <td>0</td>\n",
       "    </tr>\n",
       "  </tbody>\n",
       "</table>\n",
       "</div>"
      ],
      "text/plain": [
       "              id       date  store_nbr              family     sales  \\\n",
       "2483653  2483653 2016-10-28         46            CLEANING  2576.000   \n",
       "2761877  2761877 2017-04-03         52               DAIRY     0.000   \n",
       "1217988  1217988 2014-11-16         33               MEATS   357.354   \n",
       "1231938  1231938 2014-11-24         25  HOME AND KITCHEN I     5.000   \n",
       "528175    528175 2013-10-24         29                EGGS     0.000   \n",
       "\n",
       "         onpromotion  \n",
       "2483653           61  \n",
       "2761877            0  \n",
       "1217988            2  \n",
       "1231938            0  \n",
       "528175             0  "
      ]
     },
     "execution_count": 10,
     "metadata": {},
     "output_type": "execute_result"
    }
   ],
   "source": [
    "train_df['date'] = pd.to_datetime(train_df['date'])\n",
    "train_df.sample(n=5)"
   ]
  },
  {
   "cell_type": "code",
   "execution_count": 11,
   "metadata": {},
   "outputs": [],
   "source": [
    "# train_df = add_datepart(train_df, 'date')"
   ]
  },
  {
   "cell_type": "code",
   "execution_count": 12,
   "metadata": {},
   "outputs": [],
   "source": [
    "combined_df = train_df"
   ]
  },
  {
   "cell_type": "code",
   "execution_count": 13,
   "metadata": {},
   "outputs": [
    {
     "data": {
      "text/html": [
       "<div>\n",
       "<style scoped>\n",
       "    .dataframe tbody tr th:only-of-type {\n",
       "        vertical-align: middle;\n",
       "    }\n",
       "\n",
       "    .dataframe tbody tr th {\n",
       "        vertical-align: top;\n",
       "    }\n",
       "\n",
       "    .dataframe thead th {\n",
       "        text-align: right;\n",
       "    }\n",
       "</style>\n",
       "<table border=\"1\" class=\"dataframe\">\n",
       "  <thead>\n",
       "    <tr style=\"text-align: right;\">\n",
       "      <th></th>\n",
       "      <th>id</th>\n",
       "      <th>date</th>\n",
       "      <th>store_nbr</th>\n",
       "      <th>family</th>\n",
       "      <th>sales</th>\n",
       "      <th>onpromotion</th>\n",
       "    </tr>\n",
       "  </thead>\n",
       "  <tbody>\n",
       "    <tr>\n",
       "      <th>0</th>\n",
       "      <td>0</td>\n",
       "      <td>2013-01-01</td>\n",
       "      <td>1</td>\n",
       "      <td>AUTOMOTIVE</td>\n",
       "      <td>0.0</td>\n",
       "      <td>0</td>\n",
       "    </tr>\n",
       "    <tr>\n",
       "      <th>1</th>\n",
       "      <td>1</td>\n",
       "      <td>2013-01-01</td>\n",
       "      <td>1</td>\n",
       "      <td>BABY CARE</td>\n",
       "      <td>0.0</td>\n",
       "      <td>0</td>\n",
       "    </tr>\n",
       "    <tr>\n",
       "      <th>2</th>\n",
       "      <td>2</td>\n",
       "      <td>2013-01-01</td>\n",
       "      <td>1</td>\n",
       "      <td>BEAUTY</td>\n",
       "      <td>0.0</td>\n",
       "      <td>0</td>\n",
       "    </tr>\n",
       "    <tr>\n",
       "      <th>3</th>\n",
       "      <td>3</td>\n",
       "      <td>2013-01-01</td>\n",
       "      <td>1</td>\n",
       "      <td>BEVERAGES</td>\n",
       "      <td>0.0</td>\n",
       "      <td>0</td>\n",
       "    </tr>\n",
       "    <tr>\n",
       "      <th>4</th>\n",
       "      <td>4</td>\n",
       "      <td>2013-01-01</td>\n",
       "      <td>1</td>\n",
       "      <td>BOOKS</td>\n",
       "      <td>0.0</td>\n",
       "      <td>0</td>\n",
       "    </tr>\n",
       "  </tbody>\n",
       "</table>\n",
       "</div>"
      ],
      "text/plain": [
       "   id       date  store_nbr      family  sales  onpromotion\n",
       "0   0 2013-01-01          1  AUTOMOTIVE    0.0            0\n",
       "1   1 2013-01-01          1   BABY CARE    0.0            0\n",
       "2   2 2013-01-01          1      BEAUTY    0.0            0\n",
       "3   3 2013-01-01          1   BEVERAGES    0.0            0\n",
       "4   4 2013-01-01          1       BOOKS    0.0            0"
      ]
     },
     "execution_count": 13,
     "metadata": {},
     "output_type": "execute_result"
    }
   ],
   "source": [
    "train_df.head()"
   ]
  },
  {
   "cell_type": "code",
   "execution_count": 14,
   "metadata": {},
   "outputs": [
    {
     "data": {
      "text/html": [
       "<div>\n",
       "<style scoped>\n",
       "    .dataframe tbody tr th:only-of-type {\n",
       "        vertical-align: middle;\n",
       "    }\n",
       "\n",
       "    .dataframe tbody tr th {\n",
       "        vertical-align: top;\n",
       "    }\n",
       "\n",
       "    .dataframe thead th {\n",
       "        text-align: right;\n",
       "    }\n",
       "</style>\n",
       "<table border=\"1\" class=\"dataframe\">\n",
       "  <thead>\n",
       "    <tr style=\"text-align: right;\">\n",
       "      <th></th>\n",
       "      <th>id</th>\n",
       "      <th>date</th>\n",
       "      <th>store_nbr</th>\n",
       "      <th>family</th>\n",
       "      <th>sales</th>\n",
       "      <th>onpromotion</th>\n",
       "    </tr>\n",
       "  </thead>\n",
       "  <tbody>\n",
       "    <tr>\n",
       "      <th>0</th>\n",
       "      <td>0</td>\n",
       "      <td>2013-01-01</td>\n",
       "      <td>1</td>\n",
       "      <td>AUTOMOTIVE</td>\n",
       "      <td>0.000</td>\n",
       "      <td>0</td>\n",
       "    </tr>\n",
       "    <tr>\n",
       "      <th>1194</th>\n",
       "      <td>1194</td>\n",
       "      <td>2013-01-01</td>\n",
       "      <td>42</td>\n",
       "      <td>CELEBRATION</td>\n",
       "      <td>0.000</td>\n",
       "      <td>0</td>\n",
       "    </tr>\n",
       "    <tr>\n",
       "      <th>1193</th>\n",
       "      <td>1193</td>\n",
       "      <td>2013-01-01</td>\n",
       "      <td>42</td>\n",
       "      <td>BREAD/BAKERY</td>\n",
       "      <td>0.000</td>\n",
       "      <td>0</td>\n",
       "    </tr>\n",
       "    <tr>\n",
       "      <th>1192</th>\n",
       "      <td>1192</td>\n",
       "      <td>2013-01-01</td>\n",
       "      <td>42</td>\n",
       "      <td>BOOKS</td>\n",
       "      <td>0.000</td>\n",
       "      <td>0</td>\n",
       "    </tr>\n",
       "    <tr>\n",
       "      <th>1191</th>\n",
       "      <td>1191</td>\n",
       "      <td>2013-01-01</td>\n",
       "      <td>42</td>\n",
       "      <td>BEVERAGES</td>\n",
       "      <td>0.000</td>\n",
       "      <td>0</td>\n",
       "    </tr>\n",
       "    <tr>\n",
       "      <th>...</th>\n",
       "      <td>...</td>\n",
       "      <td>...</td>\n",
       "      <td>...</td>\n",
       "      <td>...</td>\n",
       "      <td>...</td>\n",
       "      <td>...</td>\n",
       "    </tr>\n",
       "    <tr>\n",
       "      <th>2999693</th>\n",
       "      <td>2999693</td>\n",
       "      <td>2017-08-15</td>\n",
       "      <td>25</td>\n",
       "      <td>PET SUPPLIES</td>\n",
       "      <td>3.000</td>\n",
       "      <td>0</td>\n",
       "    </tr>\n",
       "    <tr>\n",
       "      <th>2999692</th>\n",
       "      <td>2999692</td>\n",
       "      <td>2017-08-15</td>\n",
       "      <td>25</td>\n",
       "      <td>PERSONAL CARE</td>\n",
       "      <td>93.000</td>\n",
       "      <td>8</td>\n",
       "    </tr>\n",
       "    <tr>\n",
       "      <th>2999691</th>\n",
       "      <td>2999691</td>\n",
       "      <td>2017-08-15</td>\n",
       "      <td>25</td>\n",
       "      <td>MEATS</td>\n",
       "      <td>180.107</td>\n",
       "      <td>0</td>\n",
       "    </tr>\n",
       "    <tr>\n",
       "      <th>2999702</th>\n",
       "      <td>2999702</td>\n",
       "      <td>2017-08-15</td>\n",
       "      <td>26</td>\n",
       "      <td>BEAUTY</td>\n",
       "      <td>0.000</td>\n",
       "      <td>0</td>\n",
       "    </tr>\n",
       "    <tr>\n",
       "      <th>3000887</th>\n",
       "      <td>3000887</td>\n",
       "      <td>2017-08-15</td>\n",
       "      <td>9</td>\n",
       "      <td>SEAFOOD</td>\n",
       "      <td>16.000</td>\n",
       "      <td>0</td>\n",
       "    </tr>\n",
       "  </tbody>\n",
       "</table>\n",
       "<p>3000888 rows × 6 columns</p>\n",
       "</div>"
      ],
      "text/plain": [
       "              id       date  store_nbr         family    sales  onpromotion\n",
       "0              0 2013-01-01          1     AUTOMOTIVE    0.000            0\n",
       "1194        1194 2013-01-01         42    CELEBRATION    0.000            0\n",
       "1193        1193 2013-01-01         42   BREAD/BAKERY    0.000            0\n",
       "1192        1192 2013-01-01         42          BOOKS    0.000            0\n",
       "1191        1191 2013-01-01         42      BEVERAGES    0.000            0\n",
       "...          ...        ...        ...            ...      ...          ...\n",
       "2999693  2999693 2017-08-15         25   PET SUPPLIES    3.000            0\n",
       "2999692  2999692 2017-08-15         25  PERSONAL CARE   93.000            8\n",
       "2999691  2999691 2017-08-15         25          MEATS  180.107            0\n",
       "2999702  2999702 2017-08-15         26         BEAUTY    0.000            0\n",
       "3000887  3000887 2017-08-15          9        SEAFOOD   16.000            0\n",
       "\n",
       "[3000888 rows x 6 columns]"
      ]
     },
     "execution_count": 14,
     "metadata": {},
     "output_type": "execute_result"
    }
   ],
   "source": [
    "train_df.sort_values(by='date')"
   ]
  },
  {
   "cell_type": "code",
   "execution_count": 15,
   "metadata": {},
   "outputs": [
    {
     "data": {
      "text/html": [
       "<div>\n",
       "<style scoped>\n",
       "    .dataframe tbody tr th:only-of-type {\n",
       "        vertical-align: middle;\n",
       "    }\n",
       "\n",
       "    .dataframe tbody tr th {\n",
       "        vertical-align: top;\n",
       "    }\n",
       "\n",
       "    .dataframe thead th {\n",
       "        text-align: right;\n",
       "    }\n",
       "</style>\n",
       "<table border=\"1\" class=\"dataframe\">\n",
       "  <thead>\n",
       "    <tr style=\"text-align: right;\">\n",
       "      <th></th>\n",
       "      <th>id</th>\n",
       "      <th>date</th>\n",
       "      <th>store_nbr</th>\n",
       "      <th>family</th>\n",
       "      <th>onpromotion</th>\n",
       "    </tr>\n",
       "  </thead>\n",
       "  <tbody>\n",
       "    <tr>\n",
       "      <th>0</th>\n",
       "      <td>3000888</td>\n",
       "      <td>2017-08-16</td>\n",
       "      <td>1</td>\n",
       "      <td>AUTOMOTIVE</td>\n",
       "      <td>0</td>\n",
       "    </tr>\n",
       "    <tr>\n",
       "      <th>1</th>\n",
       "      <td>3000889</td>\n",
       "      <td>2017-08-16</td>\n",
       "      <td>1</td>\n",
       "      <td>BABY CARE</td>\n",
       "      <td>0</td>\n",
       "    </tr>\n",
       "    <tr>\n",
       "      <th>2</th>\n",
       "      <td>3000890</td>\n",
       "      <td>2017-08-16</td>\n",
       "      <td>1</td>\n",
       "      <td>BEAUTY</td>\n",
       "      <td>2</td>\n",
       "    </tr>\n",
       "    <tr>\n",
       "      <th>3</th>\n",
       "      <td>3000891</td>\n",
       "      <td>2017-08-16</td>\n",
       "      <td>1</td>\n",
       "      <td>BEVERAGES</td>\n",
       "      <td>20</td>\n",
       "    </tr>\n",
       "    <tr>\n",
       "      <th>4</th>\n",
       "      <td>3000892</td>\n",
       "      <td>2017-08-16</td>\n",
       "      <td>1</td>\n",
       "      <td>BOOKS</td>\n",
       "      <td>0</td>\n",
       "    </tr>\n",
       "  </tbody>\n",
       "</table>\n",
       "</div>"
      ],
      "text/plain": [
       "        id       date  store_nbr      family  onpromotion\n",
       "0  3000888 2017-08-16          1  AUTOMOTIVE            0\n",
       "1  3000889 2017-08-16          1   BABY CARE            0\n",
       "2  3000890 2017-08-16          1      BEAUTY            2\n",
       "3  3000891 2017-08-16          1   BEVERAGES           20\n",
       "4  3000892 2017-08-16          1       BOOKS            0"
      ]
     },
     "execution_count": 15,
     "metadata": {},
     "output_type": "execute_result"
    }
   ],
   "source": [
    "test_df['date'] = pd.to_datetime(test_df['date'])\n",
    "# test_df = add_datepart(test_df, 'date')\n",
    "test_df.head()"
   ]
  },
  {
   "cell_type": "code",
   "execution_count": 16,
   "metadata": {},
   "outputs": [],
   "source": [
    "# combined_df = pd.concat([train_df, test_df], ignore_index=True)\n",
    "# combined_df.sort_values(by='id')"
   ]
  },
  {
   "cell_type": "code",
   "execution_count": 17,
   "metadata": {},
   "outputs": [],
   "source": [
    "# hol_events_df['date'] = pd.to_datetime(hol_events_df['date'])\n",
    "# hol_events_df.head()"
   ]
  },
  {
   "cell_type": "code",
   "execution_count": 18,
   "metadata": {},
   "outputs": [],
   "source": [
    "# combined_df = pd.merge(combined_df, hol_events_df, on='date').set_index('date').drop_duplicates()\n",
    "# combined_df.head()"
   ]
  },
  {
   "cell_type": "code",
   "execution_count": 19,
   "metadata": {},
   "outputs": [
    {
     "data": {
      "text/html": [
       "<div>\n",
       "<style scoped>\n",
       "    .dataframe tbody tr th:only-of-type {\n",
       "        vertical-align: middle;\n",
       "    }\n",
       "\n",
       "    .dataframe tbody tr th {\n",
       "        vertical-align: top;\n",
       "    }\n",
       "\n",
       "    .dataframe thead th {\n",
       "        text-align: right;\n",
       "    }\n",
       "</style>\n",
       "<table border=\"1\" class=\"dataframe\">\n",
       "  <thead>\n",
       "    <tr style=\"text-align: right;\">\n",
       "      <th></th>\n",
       "      <th>store_nbr</th>\n",
       "      <th>city</th>\n",
       "      <th>state</th>\n",
       "      <th>type</th>\n",
       "      <th>cluster</th>\n",
       "    </tr>\n",
       "  </thead>\n",
       "  <tbody>\n",
       "    <tr>\n",
       "      <th>39</th>\n",
       "      <td>40</td>\n",
       "      <td>Machala</td>\n",
       "      <td>El Oro</td>\n",
       "      <td>C</td>\n",
       "      <td>3</td>\n",
       "    </tr>\n",
       "    <tr>\n",
       "      <th>49</th>\n",
       "      <td>50</td>\n",
       "      <td>Ambato</td>\n",
       "      <td>Tungurahua</td>\n",
       "      <td>A</td>\n",
       "      <td>14</td>\n",
       "    </tr>\n",
       "    <tr>\n",
       "      <th>18</th>\n",
       "      <td>19</td>\n",
       "      <td>Guaranda</td>\n",
       "      <td>Bolivar</td>\n",
       "      <td>C</td>\n",
       "      <td>15</td>\n",
       "    </tr>\n",
       "    <tr>\n",
       "      <th>41</th>\n",
       "      <td>42</td>\n",
       "      <td>Cuenca</td>\n",
       "      <td>Azuay</td>\n",
       "      <td>D</td>\n",
       "      <td>2</td>\n",
       "    </tr>\n",
       "    <tr>\n",
       "      <th>38</th>\n",
       "      <td>39</td>\n",
       "      <td>Cuenca</td>\n",
       "      <td>Azuay</td>\n",
       "      <td>B</td>\n",
       "      <td>6</td>\n",
       "    </tr>\n",
       "  </tbody>\n",
       "</table>\n",
       "</div>"
      ],
      "text/plain": [
       "    store_nbr      city       state type  cluster\n",
       "39         40   Machala      El Oro    C        3\n",
       "49         50    Ambato  Tungurahua    A       14\n",
       "18         19  Guaranda     Bolivar    C       15\n",
       "41         42    Cuenca       Azuay    D        2\n",
       "38         39    Cuenca       Azuay    B        6"
      ]
     },
     "execution_count": 19,
     "metadata": {},
     "output_type": "execute_result"
    }
   ],
   "source": [
    "stores_df.sample(n=5)"
   ]
  },
  {
   "cell_type": "code",
   "execution_count": 20,
   "metadata": {},
   "outputs": [
    {
     "data": {
      "text/html": [
       "<div>\n",
       "<style scoped>\n",
       "    .dataframe tbody tr th:only-of-type {\n",
       "        vertical-align: middle;\n",
       "    }\n",
       "\n",
       "    .dataframe tbody tr th {\n",
       "        vertical-align: top;\n",
       "    }\n",
       "\n",
       "    .dataframe thead th {\n",
       "        text-align: right;\n",
       "    }\n",
       "</style>\n",
       "<table border=\"1\" class=\"dataframe\">\n",
       "  <thead>\n",
       "    <tr style=\"text-align: right;\">\n",
       "      <th></th>\n",
       "      <th>date</th>\n",
       "      <th>dcoilwtico</th>\n",
       "    </tr>\n",
       "  </thead>\n",
       "  <tbody>\n",
       "    <tr>\n",
       "      <th>0</th>\n",
       "      <td>2013-01-01</td>\n",
       "      <td>NaN</td>\n",
       "    </tr>\n",
       "    <tr>\n",
       "      <th>1</th>\n",
       "      <td>2013-01-02</td>\n",
       "      <td>93.14</td>\n",
       "    </tr>\n",
       "    <tr>\n",
       "      <th>2</th>\n",
       "      <td>2013-01-03</td>\n",
       "      <td>92.97</td>\n",
       "    </tr>\n",
       "    <tr>\n",
       "      <th>3</th>\n",
       "      <td>2013-01-04</td>\n",
       "      <td>93.12</td>\n",
       "    </tr>\n",
       "    <tr>\n",
       "      <th>4</th>\n",
       "      <td>2013-01-07</td>\n",
       "      <td>93.20</td>\n",
       "    </tr>\n",
       "  </tbody>\n",
       "</table>\n",
       "</div>"
      ],
      "text/plain": [
       "         date  dcoilwtico\n",
       "0  2013-01-01         NaN\n",
       "1  2013-01-02       93.14\n",
       "2  2013-01-03       92.97\n",
       "3  2013-01-04       93.12\n",
       "4  2013-01-07       93.20"
      ]
     },
     "execution_count": 20,
     "metadata": {},
     "output_type": "execute_result"
    }
   ],
   "source": [
    "oil_df.head()"
   ]
  },
  {
   "cell_type": "code",
   "execution_count": 21,
   "metadata": {},
   "outputs": [
    {
     "data": {
      "text/html": [
       "<div>\n",
       "<style scoped>\n",
       "    .dataframe tbody tr th:only-of-type {\n",
       "        vertical-align: middle;\n",
       "    }\n",
       "\n",
       "    .dataframe tbody tr th {\n",
       "        vertical-align: top;\n",
       "    }\n",
       "\n",
       "    .dataframe thead th {\n",
       "        text-align: right;\n",
       "    }\n",
       "</style>\n",
       "<table border=\"1\" class=\"dataframe\">\n",
       "  <thead>\n",
       "    <tr style=\"text-align: right;\">\n",
       "      <th></th>\n",
       "      <th>date</th>\n",
       "      <th>store_nbr</th>\n",
       "      <th>transactions</th>\n",
       "    </tr>\n",
       "  </thead>\n",
       "  <tbody>\n",
       "    <tr>\n",
       "      <th>83483</th>\n",
       "      <td>2017-08-15</td>\n",
       "      <td>50</td>\n",
       "      <td>2804</td>\n",
       "    </tr>\n",
       "    <tr>\n",
       "      <th>83484</th>\n",
       "      <td>2017-08-15</td>\n",
       "      <td>51</td>\n",
       "      <td>1573</td>\n",
       "    </tr>\n",
       "    <tr>\n",
       "      <th>83485</th>\n",
       "      <td>2017-08-15</td>\n",
       "      <td>52</td>\n",
       "      <td>2255</td>\n",
       "    </tr>\n",
       "    <tr>\n",
       "      <th>83486</th>\n",
       "      <td>2017-08-15</td>\n",
       "      <td>53</td>\n",
       "      <td>932</td>\n",
       "    </tr>\n",
       "    <tr>\n",
       "      <th>83487</th>\n",
       "      <td>2017-08-15</td>\n",
       "      <td>54</td>\n",
       "      <td>802</td>\n",
       "    </tr>\n",
       "  </tbody>\n",
       "</table>\n",
       "</div>"
      ],
      "text/plain": [
       "             date  store_nbr  transactions\n",
       "83483  2017-08-15         50          2804\n",
       "83484  2017-08-15         51          1573\n",
       "83485  2017-08-15         52          2255\n",
       "83486  2017-08-15         53           932\n",
       "83487  2017-08-15         54           802"
      ]
     },
     "execution_count": 21,
     "metadata": {},
     "output_type": "execute_result"
    }
   ],
   "source": [
    "transactions_df.tail()"
   ]
  },
  {
   "cell_type": "code",
   "execution_count": 22,
   "metadata": {},
   "outputs": [
    {
     "data": {
      "text/html": [
       "<div>\n",
       "<style scoped>\n",
       "    .dataframe tbody tr th:only-of-type {\n",
       "        vertical-align: middle;\n",
       "    }\n",
       "\n",
       "    .dataframe tbody tr th {\n",
       "        vertical-align: top;\n",
       "    }\n",
       "\n",
       "    .dataframe thead th {\n",
       "        text-align: right;\n",
       "    }\n",
       "</style>\n",
       "<table border=\"1\" class=\"dataframe\">\n",
       "  <thead>\n",
       "    <tr style=\"text-align: right;\">\n",
       "      <th></th>\n",
       "      <th>id</th>\n",
       "      <th>date</th>\n",
       "      <th>store_nbr</th>\n",
       "      <th>family</th>\n",
       "      <th>onpromotion</th>\n",
       "    </tr>\n",
       "  </thead>\n",
       "  <tbody>\n",
       "    <tr>\n",
       "      <th>0</th>\n",
       "      <td>3000888</td>\n",
       "      <td>2017-08-16</td>\n",
       "      <td>1</td>\n",
       "      <td>AUTOMOTIVE</td>\n",
       "      <td>0</td>\n",
       "    </tr>\n",
       "    <tr>\n",
       "      <th>1</th>\n",
       "      <td>3000889</td>\n",
       "      <td>2017-08-16</td>\n",
       "      <td>1</td>\n",
       "      <td>BABY CARE</td>\n",
       "      <td>0</td>\n",
       "    </tr>\n",
       "    <tr>\n",
       "      <th>2</th>\n",
       "      <td>3000890</td>\n",
       "      <td>2017-08-16</td>\n",
       "      <td>1</td>\n",
       "      <td>BEAUTY</td>\n",
       "      <td>2</td>\n",
       "    </tr>\n",
       "    <tr>\n",
       "      <th>3</th>\n",
       "      <td>3000891</td>\n",
       "      <td>2017-08-16</td>\n",
       "      <td>1</td>\n",
       "      <td>BEVERAGES</td>\n",
       "      <td>20</td>\n",
       "    </tr>\n",
       "    <tr>\n",
       "      <th>4</th>\n",
       "      <td>3000892</td>\n",
       "      <td>2017-08-16</td>\n",
       "      <td>1</td>\n",
       "      <td>BOOKS</td>\n",
       "      <td>0</td>\n",
       "    </tr>\n",
       "  </tbody>\n",
       "</table>\n",
       "</div>"
      ],
      "text/plain": [
       "        id       date  store_nbr      family  onpromotion\n",
       "0  3000888 2017-08-16          1  AUTOMOTIVE            0\n",
       "1  3000889 2017-08-16          1   BABY CARE            0\n",
       "2  3000890 2017-08-16          1      BEAUTY            2\n",
       "3  3000891 2017-08-16          1   BEVERAGES           20\n",
       "4  3000892 2017-08-16          1       BOOKS            0"
      ]
     },
     "execution_count": 22,
     "metadata": {},
     "output_type": "execute_result"
    }
   ],
   "source": [
    "test_df.head()"
   ]
  },
  {
   "cell_type": "code",
   "execution_count": 23,
   "metadata": {},
   "outputs": [],
   "source": [
    "def get_null_counts(df):\n",
    "    null_count_df = pd.DataFrame((df.isnull().sum()).sort_values(ascending=False).reset_index())\n",
    "    null_count_df.columns = ['column_name','null_counts']\n",
    "    null_count_df = null_count_df.query(\"column_name!='Sales'\")\n",
    "    return null_count_df"
   ]
  },
  {
   "cell_type": "code",
   "execution_count": 24,
   "metadata": {},
   "outputs": [
    {
     "data": {
      "text/html": [
       "<style type=\"text/css\">\n",
       "#T_87bfe_row0_col1, #T_87bfe_row1_col1, #T_87bfe_row2_col1, #T_87bfe_row3_col1, #T_87bfe_row4_col1, #T_87bfe_row5_col1 {\n",
       "  background-color: #ffffcc;\n",
       "  color: #000000;\n",
       "}\n",
       "</style>\n",
       "<table id=\"T_87bfe\">\n",
       "  <thead>\n",
       "    <tr>\n",
       "      <th class=\"blank level0\" >&nbsp;</th>\n",
       "      <th id=\"T_87bfe_level0_col0\" class=\"col_heading level0 col0\" >column_name</th>\n",
       "      <th id=\"T_87bfe_level0_col1\" class=\"col_heading level0 col1\" >null_counts</th>\n",
       "    </tr>\n",
       "  </thead>\n",
       "  <tbody>\n",
       "    <tr>\n",
       "      <th id=\"T_87bfe_level0_row0\" class=\"row_heading level0 row0\" >0</th>\n",
       "      <td id=\"T_87bfe_row0_col0\" class=\"data row0 col0\" >id</td>\n",
       "      <td id=\"T_87bfe_row0_col1\" class=\"data row0 col1\" >0</td>\n",
       "    </tr>\n",
       "    <tr>\n",
       "      <th id=\"T_87bfe_level0_row1\" class=\"row_heading level0 row1\" >1</th>\n",
       "      <td id=\"T_87bfe_row1_col0\" class=\"data row1 col0\" >date</td>\n",
       "      <td id=\"T_87bfe_row1_col1\" class=\"data row1 col1\" >0</td>\n",
       "    </tr>\n",
       "    <tr>\n",
       "      <th id=\"T_87bfe_level0_row2\" class=\"row_heading level0 row2\" >2</th>\n",
       "      <td id=\"T_87bfe_row2_col0\" class=\"data row2 col0\" >store_nbr</td>\n",
       "      <td id=\"T_87bfe_row2_col1\" class=\"data row2 col1\" >0</td>\n",
       "    </tr>\n",
       "    <tr>\n",
       "      <th id=\"T_87bfe_level0_row3\" class=\"row_heading level0 row3\" >3</th>\n",
       "      <td id=\"T_87bfe_row3_col0\" class=\"data row3 col0\" >family</td>\n",
       "      <td id=\"T_87bfe_row3_col1\" class=\"data row3 col1\" >0</td>\n",
       "    </tr>\n",
       "    <tr>\n",
       "      <th id=\"T_87bfe_level0_row4\" class=\"row_heading level0 row4\" >4</th>\n",
       "      <td id=\"T_87bfe_row4_col0\" class=\"data row4 col0\" >sales</td>\n",
       "      <td id=\"T_87bfe_row4_col1\" class=\"data row4 col1\" >0</td>\n",
       "    </tr>\n",
       "    <tr>\n",
       "      <th id=\"T_87bfe_level0_row5\" class=\"row_heading level0 row5\" >5</th>\n",
       "      <td id=\"T_87bfe_row5_col0\" class=\"data row5 col0\" >onpromotion</td>\n",
       "      <td id=\"T_87bfe_row5_col1\" class=\"data row5 col1\" >0</td>\n",
       "    </tr>\n",
       "  </tbody>\n",
       "</table>\n"
      ],
      "text/plain": [
       "<pandas.io.formats.style.Styler at 0x7f2b8869b760>"
      ]
     },
     "execution_count": 24,
     "metadata": {},
     "output_type": "execute_result"
    }
   ],
   "source": [
    "null_= get_null_counts(train_df)\n",
    "null_.style.background_gradient(cmap='YlOrRd')"
   ]
  },
  {
   "attachments": {},
   "cell_type": "markdown",
   "metadata": {},
   "source": [
    "#### Quick baseline model"
   ]
  },
  {
   "cell_type": "code",
   "execution_count": 25,
   "metadata": {},
   "outputs": [],
   "source": [
    "dep_var = 'sales'"
   ]
  },
  {
   "cell_type": "code",
   "execution_count": 26,
   "metadata": {},
   "outputs": [],
   "source": [
    "# combined_df[dep_var] = np.log(combined_df[dep_var])\n",
    "# combined_df[dep_var] = np.log(combined_df[dep_var]).replace(0, np.finfo(float).eps))"
   ]
  },
  {
   "cell_type": "code",
   "execution_count": 27,
   "metadata": {},
   "outputs": [],
   "source": [
    "train_df[dep_var] = np.log(train_df[dep_var] + 1e-5)"
   ]
  },
  {
   "cell_type": "code",
   "execution_count": 28,
   "metadata": {},
   "outputs": [],
   "source": [
    "procs = [Categorify, FillMissing, Normalize]"
   ]
  },
  {
   "cell_type": "code",
   "execution_count": 29,
   "metadata": {},
   "outputs": [
    {
     "data": {
      "text/plain": [
       "3000883   2017-08-15\n",
       "3000884   2017-08-15\n",
       "3000885   2017-08-15\n",
       "3000886   2017-08-15\n",
       "3000887   2017-08-15\n",
       "Name: date, dtype: datetime64[ns]"
      ]
     },
     "execution_count": 29,
     "metadata": {},
     "output_type": "execute_result"
    }
   ],
   "source": [
    "train_df['date'].tail()"
   ]
  },
  {
   "cell_type": "code",
   "execution_count": 30,
   "metadata": {},
   "outputs": [
    {
     "data": {
      "text/plain": [
       "0           True\n",
       "1           True\n",
       "2           True\n",
       "3           True\n",
       "4           True\n",
       "           ...  \n",
       "3000883    False\n",
       "3000884    False\n",
       "3000885    False\n",
       "3000886    False\n",
       "3000887    False\n",
       "Name: date, Length: 3000888, dtype: bool"
      ]
     },
     "execution_count": 30,
     "metadata": {},
     "output_type": "execute_result"
    }
   ],
   "source": [
    "train_df['date'] < pd.to_datetime('2017-01-01')"
   ]
  },
  {
   "attachments": {},
   "cell_type": "markdown",
   "metadata": {},
   "source": [
    "In the interest of getting the baseline model up and running as quickly as possible, all training data will be before the earthquake. In the future the earthquake data will be incorporated, or dropped if it causes significant issues"
   ]
  },
  {
   "cell_type": "code",
   "execution_count": 31,
   "metadata": {},
   "outputs": [],
   "source": [
    "# cond = (df.date < 2016) | ((df.saleMonth<10) & (df.saleYear==2011))\n",
    "cond = train_df.date < pd.to_datetime(\"2016-04-01\")"
   ]
  },
  {
   "attachments": {},
   "cell_type": "markdown",
   "metadata": {},
   "source": [
    "Training and validation set indexes where `cond` is true or false"
   ]
  },
  {
   "cell_type": "code",
   "execution_count": 32,
   "metadata": {},
   "outputs": [],
   "source": [
    "train_idx = np.where( cond)[0]\n",
    "valid_idx = np.where(~cond)[0]"
   ]
  },
  {
   "cell_type": "code",
   "execution_count": 33,
   "metadata": {},
   "outputs": [
    {
     "data": {
      "text/plain": [
       "array([      0,       1,       2, ..., 2108103, 2108104, 2108105])"
      ]
     },
     "execution_count": 33,
     "metadata": {},
     "output_type": "execute_result"
    }
   ],
   "source": [
    "train_idx"
   ]
  },
  {
   "attachments": {},
   "cell_type": "markdown",
   "metadata": {},
   "source": [
    "Assign the training and validation indexs to splits as a tuple of lists"
   ]
  },
  {
   "cell_type": "code",
   "execution_count": 34,
   "metadata": {},
   "outputs": [],
   "source": [
    "splits = (list(train_idx), list(valid_idx))"
   ]
  },
  {
   "attachments": {},
   "cell_type": "markdown",
   "metadata": {},
   "source": [
    "Split continuous and categorical variables, with a max cardinality of 1"
   ]
  },
  {
   "cell_type": "code",
   "execution_count": 35,
   "metadata": {},
   "outputs": [],
   "source": [
    "cont, cat = cont_cat_split(train_df, 1, dep_var=dep_var)"
   ]
  },
  {
   "attachments": {},
   "cell_type": "markdown",
   "metadata": {},
   "source": [
    "Create tabular pandas object"
   ]
  },
  {
   "cell_type": "code",
   "execution_count": 36,
   "metadata": {},
   "outputs": [],
   "source": [
    "to = TabularPandas(train_df, procs, cat, cont, y_names=dep_var, splits=splits)"
   ]
  },
  {
   "cell_type": "code",
   "execution_count": 37,
   "metadata": {},
   "outputs": [
    {
     "data": {
      "text/plain": [
       "0         -11.512925\n",
       "1         -11.512925\n",
       "2         -11.512925\n",
       "3         -11.512925\n",
       "4         -11.512925\n",
       "             ...    \n",
       "2108101     5.935407\n",
       "2108102     4.599353\n",
       "2108103     7.185743\n",
       "2108104     1.098616\n",
       "2108105     3.051877\n",
       "Name: sales, Length: 2108106, dtype: float32"
      ]
     },
     "execution_count": 37,
     "metadata": {},
     "output_type": "execute_result"
    }
   ],
   "source": [
    "to.train.y"
   ]
  },
  {
   "cell_type": "code",
   "execution_count": 38,
   "metadata": {},
   "outputs": [],
   "source": [
    "xs, y = to.train.xs, to.train.y"
   ]
  },
  {
   "cell_type": "code",
   "execution_count": 39,
   "metadata": {},
   "outputs": [],
   "source": [
    "valid_xs, valid_y = to.valid.xs, to.valid.y"
   ]
  },
  {
   "cell_type": "code",
   "execution_count": 46,
   "metadata": {},
   "outputs": [
    {
     "data": {
      "text/html": [
       "<div>\n",
       "<style scoped>\n",
       "    .dataframe tbody tr th:only-of-type {\n",
       "        vertical-align: middle;\n",
       "    }\n",
       "\n",
       "    .dataframe tbody tr th {\n",
       "        vertical-align: top;\n",
       "    }\n",
       "\n",
       "    .dataframe thead th {\n",
       "        text-align: right;\n",
       "    }\n",
       "</style>\n",
       "<table border=\"1\" class=\"dataframe\">\n",
       "  <thead>\n",
       "    <tr style=\"text-align: right;\">\n",
       "      <th></th>\n",
       "      <th>id</th>\n",
       "      <th>date</th>\n",
       "      <th>store_nbr</th>\n",
       "      <th>family</th>\n",
       "      <th>sales</th>\n",
       "      <th>onpromotion</th>\n",
       "    </tr>\n",
       "  </thead>\n",
       "  <tbody>\n",
       "    <tr>\n",
       "      <th>0</th>\n",
       "      <td>-1.732050</td>\n",
       "      <td>1</td>\n",
       "      <td>-1.700267</td>\n",
       "      <td>1</td>\n",
       "      <td>-11.512925</td>\n",
       "      <td>-0.130362</td>\n",
       "    </tr>\n",
       "    <tr>\n",
       "      <th>1</th>\n",
       "      <td>-1.732048</td>\n",
       "      <td>1</td>\n",
       "      <td>-1.700267</td>\n",
       "      <td>2</td>\n",
       "      <td>-11.512925</td>\n",
       "      <td>-0.130362</td>\n",
       "    </tr>\n",
       "    <tr>\n",
       "      <th>2</th>\n",
       "      <td>-1.732047</td>\n",
       "      <td>1</td>\n",
       "      <td>-1.700267</td>\n",
       "      <td>3</td>\n",
       "      <td>-11.512925</td>\n",
       "      <td>-0.130362</td>\n",
       "    </tr>\n",
       "    <tr>\n",
       "      <th>3</th>\n",
       "      <td>-1.732045</td>\n",
       "      <td>1</td>\n",
       "      <td>-1.700267</td>\n",
       "      <td>4</td>\n",
       "      <td>-11.512925</td>\n",
       "      <td>-0.130362</td>\n",
       "    </tr>\n",
       "    <tr>\n",
       "      <th>4</th>\n",
       "      <td>-1.732043</td>\n",
       "      <td>1</td>\n",
       "      <td>-1.700267</td>\n",
       "      <td>5</td>\n",
       "      <td>-11.512925</td>\n",
       "      <td>-0.130362</td>\n",
       "    </tr>\n",
       "    <tr>\n",
       "      <th>...</th>\n",
       "      <td>...</td>\n",
       "      <td>...</td>\n",
       "      <td>...</td>\n",
       "      <td>...</td>\n",
       "      <td>...</td>\n",
       "      <td>...</td>\n",
       "    </tr>\n",
       "    <tr>\n",
       "      <th>3000883</th>\n",
       "      <td>3.199089</td>\n",
       "      <td>0</td>\n",
       "      <td>-1.186979</td>\n",
       "      <td>29</td>\n",
       "      <td>6.082522</td>\n",
       "      <td>-0.130362</td>\n",
       "    </tr>\n",
       "    <tr>\n",
       "      <th>3000884</th>\n",
       "      <td>3.199091</td>\n",
       "      <td>0</td>\n",
       "      <td>-1.186979</td>\n",
       "      <td>30</td>\n",
       "      <td>5.040537</td>\n",
       "      <td>0.004929</td>\n",
       "    </tr>\n",
       "    <tr>\n",
       "      <th>3000885</th>\n",
       "      <td>3.199092</td>\n",
       "      <td>0</td>\n",
       "      <td>-1.186979</td>\n",
       "      <td>31</td>\n",
       "      <td>7.791411</td>\n",
       "      <td>19.892806</td>\n",
       "    </tr>\n",
       "    <tr>\n",
       "      <th>3000886</th>\n",
       "      <td>3.199094</td>\n",
       "      <td>0</td>\n",
       "      <td>-1.186979</td>\n",
       "      <td>32</td>\n",
       "      <td>4.795791</td>\n",
       "      <td>0.951971</td>\n",
       "    </tr>\n",
       "    <tr>\n",
       "      <th>3000887</th>\n",
       "      <td>3.199096</td>\n",
       "      <td>0</td>\n",
       "      <td>-1.186979</td>\n",
       "      <td>33</td>\n",
       "      <td>2.772589</td>\n",
       "      <td>-0.130362</td>\n",
       "    </tr>\n",
       "  </tbody>\n",
       "</table>\n",
       "<p>3000888 rows × 6 columns</p>\n",
       "</div>"
      ],
      "text/plain": [
       "               id  date  store_nbr  family      sales  onpromotion\n",
       "0       -1.732050     1  -1.700267       1 -11.512925    -0.130362\n",
       "1       -1.732048     1  -1.700267       2 -11.512925    -0.130362\n",
       "2       -1.732047     1  -1.700267       3 -11.512925    -0.130362\n",
       "3       -1.732045     1  -1.700267       4 -11.512925    -0.130362\n",
       "4       -1.732043     1  -1.700267       5 -11.512925    -0.130362\n",
       "...           ...   ...        ...     ...        ...          ...\n",
       "3000883  3.199089     0  -1.186979      29   6.082522    -0.130362\n",
       "3000884  3.199091     0  -1.186979      30   5.040537     0.004929\n",
       "3000885  3.199092     0  -1.186979      31   7.791411    19.892806\n",
       "3000886  3.199094     0  -1.186979      32   4.795791     0.951971\n",
       "3000887  3.199096     0  -1.186979      33   2.772589    -0.130362\n",
       "\n",
       "[3000888 rows x 6 columns]"
      ]
     },
     "execution_count": 46,
     "metadata": {},
     "output_type": "execute_result"
    }
   ],
   "source": [
    "to.items"
   ]
  },
  {
   "cell_type": "code",
   "execution_count": 47,
   "metadata": {},
   "outputs": [
    {
     "data": {
      "text/html": [
       "<style>#sk-container-id-3 {color: black;background-color: white;}#sk-container-id-3 pre{padding: 0;}#sk-container-id-3 div.sk-toggleable {background-color: white;}#sk-container-id-3 label.sk-toggleable__label {cursor: pointer;display: block;width: 100%;margin-bottom: 0;padding: 0.3em;box-sizing: border-box;text-align: center;}#sk-container-id-3 label.sk-toggleable__label-arrow:before {content: \"▸\";float: left;margin-right: 0.25em;color: #696969;}#sk-container-id-3 label.sk-toggleable__label-arrow:hover:before {color: black;}#sk-container-id-3 div.sk-estimator:hover label.sk-toggleable__label-arrow:before {color: black;}#sk-container-id-3 div.sk-toggleable__content {max-height: 0;max-width: 0;overflow: hidden;text-align: left;background-color: #f0f8ff;}#sk-container-id-3 div.sk-toggleable__content pre {margin: 0.2em;color: black;border-radius: 0.25em;background-color: #f0f8ff;}#sk-container-id-3 input.sk-toggleable__control:checked~div.sk-toggleable__content {max-height: 200px;max-width: 100%;overflow: auto;}#sk-container-id-3 input.sk-toggleable__control:checked~label.sk-toggleable__label-arrow:before {content: \"▾\";}#sk-container-id-3 div.sk-estimator input.sk-toggleable__control:checked~label.sk-toggleable__label {background-color: #d4ebff;}#sk-container-id-3 div.sk-label input.sk-toggleable__control:checked~label.sk-toggleable__label {background-color: #d4ebff;}#sk-container-id-3 input.sk-hidden--visually {border: 0;clip: rect(1px 1px 1px 1px);clip: rect(1px, 1px, 1px, 1px);height: 1px;margin: -1px;overflow: hidden;padding: 0;position: absolute;width: 1px;}#sk-container-id-3 div.sk-estimator {font-family: monospace;background-color: #f0f8ff;border: 1px dotted black;border-radius: 0.25em;box-sizing: border-box;margin-bottom: 0.5em;}#sk-container-id-3 div.sk-estimator:hover {background-color: #d4ebff;}#sk-container-id-3 div.sk-parallel-item::after {content: \"\";width: 100%;border-bottom: 1px solid gray;flex-grow: 1;}#sk-container-id-3 div.sk-label:hover label.sk-toggleable__label {background-color: #d4ebff;}#sk-container-id-3 div.sk-serial::before {content: \"\";position: absolute;border-left: 1px solid gray;box-sizing: border-box;top: 0;bottom: 0;left: 50%;z-index: 0;}#sk-container-id-3 div.sk-serial {display: flex;flex-direction: column;align-items: center;background-color: white;padding-right: 0.2em;padding-left: 0.2em;position: relative;}#sk-container-id-3 div.sk-item {position: relative;z-index: 1;}#sk-container-id-3 div.sk-parallel {display: flex;align-items: stretch;justify-content: center;background-color: white;position: relative;}#sk-container-id-3 div.sk-item::before, #sk-container-id-3 div.sk-parallel-item::before {content: \"\";position: absolute;border-left: 1px solid gray;box-sizing: border-box;top: 0;bottom: 0;left: 50%;z-index: -1;}#sk-container-id-3 div.sk-parallel-item {display: flex;flex-direction: column;z-index: 1;position: relative;background-color: white;}#sk-container-id-3 div.sk-parallel-item:first-child::after {align-self: flex-end;width: 50%;}#sk-container-id-3 div.sk-parallel-item:last-child::after {align-self: flex-start;width: 50%;}#sk-container-id-3 div.sk-parallel-item:only-child::after {width: 0;}#sk-container-id-3 div.sk-dashed-wrapped {border: 1px dashed gray;margin: 0 0.4em 0.5em 0.4em;box-sizing: border-box;padding-bottom: 0.4em;background-color: white;}#sk-container-id-3 div.sk-label label {font-family: monospace;font-weight: bold;display: inline-block;line-height: 1.2em;}#sk-container-id-3 div.sk-label-container {text-align: center;}#sk-container-id-3 div.sk-container {/* jupyter's `normalize.less` sets `[hidden] { display: none; }` but bootstrap.min.css set `[hidden] { display: none !important; }` so we also need the `!important` here to be able to override the default hidden behavior on the sphinx rendered scikit-learn.org. See: https://github.com/scikit-learn/scikit-learn/issues/21755 */display: inline-block !important;position: relative;}#sk-container-id-3 div.sk-text-repr-fallback {display: none;}</style><div id=\"sk-container-id-3\" class=\"sk-top-container\"><div class=\"sk-text-repr-fallback\"><pre>DecisionTreeRegressor(max_leaf_nodes=10)</pre><b>In a Jupyter environment, please rerun this cell to show the HTML representation or trust the notebook. <br />On GitHub, the HTML representation is unable to render, please try loading this page with nbviewer.org.</b></div><div class=\"sk-container\" hidden><div class=\"sk-item\"><div class=\"sk-estimator sk-toggleable\"><input class=\"sk-toggleable__control sk-hidden--visually\" id=\"sk-estimator-id-3\" type=\"checkbox\" checked><label for=\"sk-estimator-id-3\" class=\"sk-toggleable__label sk-toggleable__label-arrow\">DecisionTreeRegressor</label><div class=\"sk-toggleable__content\"><pre>DecisionTreeRegressor(max_leaf_nodes=10)</pre></div></div></div></div></div>"
      ],
      "text/plain": [
       "DecisionTreeRegressor(max_leaf_nodes=10)"
      ]
     },
     "execution_count": 47,
     "metadata": {},
     "output_type": "execute_result"
    }
   ],
   "source": [
    "m = DecisionTreeRegressor(max_leaf_nodes=10)\n",
    "m.fit(xs, y)"
   ]
  },
  {
   "cell_type": "code",
   "execution_count": 48,
   "metadata": {},
   "outputs": [
    {
     "data": {
      "image/svg+xml": "<?xml version=\"1.0\" encoding=\"UTF-8\" standalone=\"no\"?>\n<!DOCTYPE svg PUBLIC \"-//W3C//DTD SVG 1.1//EN\"\n \"http://www.w3.org/Graphics/SVG/1.1/DTD/svg11.dtd\">\n<!-- Generated by graphviz version 7.0.6 (20230107.1202)\n -->\n<!-- Title: Tree Pages: 1 -->\n<svg width=\"864pt\" height=\"520pt\"\n viewBox=\"0.00 0.00 864.00 520.06\" xmlns=\"http://www.w3.org/2000/svg\" xmlns:xlink=\"http://www.w3.org/1999/xlink\">\n<g id=\"graph0\" class=\"graph\" transform=\"scale(0.458234 0.458234) rotate(0) translate(4 1130.91)\">\n<title>Tree</title>\n<polygon fill=\"white\" stroke=\"none\" points=\"-4,4 -4,-1130.91 1881.5,-1130.91 1881.5,4 -4,4\"/>\n<!-- 0 -->\n<g id=\"node1\" class=\"node\">\n<title>0</title>\n<path fill=\"#f2c29e\" stroke=\"black\" d=\"M1729,-1112C1729,-1112 1579,-1112 1579,-1112 1573,-1112 1567,-1106 1567,-1100 1567,-1100 1567,-1056 1567,-1056 1567,-1050 1573,-1044 1579,-1044 1579,-1044 1729,-1044 1729,-1044 1735,-1044 1741,-1050 1741,-1056 1741,-1056 1741,-1100 1741,-1100 1741,-1106 1735,-1112 1729,-1112\"/>\n<text text-anchor=\"start\" x=\"1581\" y=\"-1096.8\" font-family=\"Helvetica,sans-Serif\" font-size=\"14.00\">onpromotion ≤ &#45;0.06</text>\n<text text-anchor=\"start\" x=\"1575\" y=\"-1081.8\" font-family=\"Helvetica,sans-Serif\" font-size=\"14.00\">squared_error = 61.16</text>\n<text text-anchor=\"start\" x=\"1583\" y=\"-1066.8\" font-family=\"Helvetica,sans-Serif\" font-size=\"14.00\">samples = 2108106</text>\n<text text-anchor=\"start\" x=\"1606\" y=\"-1051.8\" font-family=\"Helvetica,sans-Serif\" font-size=\"14.00\">value = &#45;1.69</text>\n</g>\n<!-- 1 -->\n<g id=\"node2\" class=\"node\">\n<title>1</title>\n<path fill=\"#f4caab\" stroke=\"black\" d=\"M1255,-964C1255,-964 1105,-964 1105,-964 1099,-964 1093,-958 1093,-952 1093,-952 1093,-908 1093,-908 1093,-902 1099,-896 1105,-896 1105,-896 1255,-896 1255,-896 1261,-896 1267,-902 1267,-908 1267,-908 1267,-952 1267,-952 1267,-958 1261,-964 1255,-964\"/>\n<text text-anchor=\"start\" x=\"1132\" y=\"-948.8\" font-family=\"Helvetica,sans-Serif\" font-size=\"14.00\">family ≤ 14.5</text>\n<text text-anchor=\"start\" x=\"1101\" y=\"-933.8\" font-family=\"Helvetica,sans-Serif\" font-size=\"14.00\">squared_error = 59.74</text>\n<text text-anchor=\"start\" x=\"1109\" y=\"-918.8\" font-family=\"Helvetica,sans-Serif\" font-size=\"14.00\">samples = 1872939</text>\n<text text-anchor=\"start\" x=\"1132\" y=\"-903.8\" font-family=\"Helvetica,sans-Serif\" font-size=\"14.00\">value = &#45;2.67</text>\n</g>\n<!-- 0&#45;&gt;1 -->\n<g id=\"edge1\" class=\"edge\">\n<title>0&#45;&gt;1</title>\n<path fill=\"none\" stroke=\"black\" d=\"M1566.51,-1050.05C1484.89,-1024.91 1363.28,-987.45 1278.33,-961.29\"/>\n<polygon fill=\"black\" stroke=\"black\" points=\"1279.42,-957.96 1268.83,-958.36 1277.35,-964.65 1279.42,-957.96\"/>\n<text text-anchor=\"middle\" x=\"1279.07\" y=\"-976.31\" font-family=\"Helvetica,sans-Serif\" font-size=\"14.00\">True</text>\n</g>\n<!-- 2 -->\n<g id=\"node19\" class=\"node\">\n<title>2</title>\n<path fill=\"#e58139\" stroke=\"black\" d=\"M1865.5,-64.5C1865.5,-64.5 1724.5,-64.5 1724.5,-64.5 1718.5,-64.5 1712.5,-58.5 1712.5,-52.5 1712.5,-52.5 1712.5,-23.5 1712.5,-23.5 1712.5,-17.5 1718.5,-11.5 1724.5,-11.5 1724.5,-11.5 1865.5,-11.5 1865.5,-11.5 1871.5,-11.5 1877.5,-17.5 1877.5,-23.5 1877.5,-23.5 1877.5,-52.5 1877.5,-52.5 1877.5,-58.5 1871.5,-64.5 1865.5,-64.5\"/>\n<text text-anchor=\"start\" x=\"1720.5\" y=\"-49.3\" font-family=\"Helvetica,sans-Serif\" font-size=\"14.00\">squared_error = 2.76</text>\n<text text-anchor=\"start\" x=\"1728.5\" y=\"-34.3\" font-family=\"Helvetica,sans-Serif\" font-size=\"14.00\">samples = 235167</text>\n<text text-anchor=\"start\" x=\"1749.5\" y=\"-19.3\" font-family=\"Helvetica,sans-Serif\" font-size=\"14.00\">value = 6.18</text>\n</g>\n<!-- 0&#45;&gt;2 -->\n<g id=\"edge18\" class=\"edge\">\n<title>0&#45;&gt;2</title>\n<path fill=\"none\" stroke=\"black\" d=\"M1669.9,-1043.73C1706.78,-966.58 1795,-782 1795,-782 1795,-782 1795,-782 1795,-334 1795,-334 1795,-155.68 1795,-76.32\"/>\n<polygon fill=\"black\" stroke=\"black\" points=\"1798.5,-76.43 1795,-66.43 1791.5,-76.43 1798.5,-76.43\"/>\n<text text-anchor=\"middle\" x=\"1812.68\" y=\"-78.9\" font-family=\"Helvetica,sans-Serif\" font-size=\"14.00\">False</text>\n</g>\n<!-- 3 -->\n<g id=\"node3\" class=\"node\">\n<title>3</title>\n<path fill=\"#f2be98\" stroke=\"black\" d=\"M354,-815C354,-815 204,-815 204,-815 198,-815 192,-809 192,-803 192,-803 192,-759 192,-759 192,-753 198,-747 204,-747 204,-747 354,-747 354,-747 360,-747 366,-753 366,-759 366,-759 366,-803 366,-803 366,-809 360,-815 354,-815\"/>\n<text text-anchor=\"start\" x=\"235.5\" y=\"-799.8\" font-family=\"Helvetica,sans-Serif\" font-size=\"14.00\">family ≤ 7.5</text>\n<text text-anchor=\"start\" x=\"200\" y=\"-784.8\" font-family=\"Helvetica,sans-Serif\" font-size=\"14.00\">squared_error = 60.92</text>\n<text text-anchor=\"start\" x=\"212.5\" y=\"-769.8\" font-family=\"Helvetica,sans-Serif\" font-size=\"14.00\">samples = 731793</text>\n<text text-anchor=\"start\" x=\"231\" y=\"-754.8\" font-family=\"Helvetica,sans-Serif\" font-size=\"14.00\">value = &#45;1.21</text>\n</g>\n<!-- 1&#45;&gt;3 -->\n<g id=\"edge2\" class=\"edge\">\n<title>1&#45;&gt;3</title>\n<path fill=\"none\" stroke=\"black\" d=\"M1092.79,-914.77C924.17,-887.26 554.48,-826.95 377.38,-798.05\"/>\n<polygon fill=\"black\" stroke=\"black\" points=\"378.19,-794.64 367.75,-796.48 377.06,-801.54 378.19,-794.64\"/>\n</g>\n<!-- 4 -->\n<g id=\"node6\" class=\"node\">\n<title>4</title>\n<path fill=\"#f6d1b7\" stroke=\"black\" d=\"M1255,-815C1255,-815 1105,-815 1105,-815 1099,-815 1093,-809 1093,-803 1093,-803 1093,-759 1093,-759 1093,-753 1099,-747 1105,-747 1105,-747 1255,-747 1255,-747 1261,-747 1267,-753 1267,-759 1267,-759 1267,-803 1267,-803 1267,-809 1261,-815 1255,-815\"/>\n<text text-anchor=\"start\" x=\"1147\" y=\"-799.8\" font-family=\"Helvetica,sans-Serif\" font-size=\"14.00\">id ≤ 0.84</text>\n<text text-anchor=\"start\" x=\"1101\" y=\"-784.8\" font-family=\"Helvetica,sans-Serif\" font-size=\"14.00\">squared_error = 56.73</text>\n<text text-anchor=\"start\" x=\"1109\" y=\"-769.8\" font-family=\"Helvetica,sans-Serif\" font-size=\"14.00\">samples = 1141146</text>\n<text text-anchor=\"start\" x=\"1132\" y=\"-754.8\" font-family=\"Helvetica,sans-Serif\" font-size=\"14.00\">value = &#45;3.61</text>\n</g>\n<!-- 1&#45;&gt;4 -->\n<g id=\"edge5\" class=\"edge\">\n<title>1&#45;&gt;4</title>\n<path fill=\"none\" stroke=\"black\" d=\"M1180,-895.64C1180,-875.32 1180,-849.1 1180,-826.96\"/>\n<polygon fill=\"black\" stroke=\"black\" points=\"1183.5,-826.99 1180,-816.99 1176.5,-826.99 1183.5,-826.99\"/>\n</g>\n<!-- 5 -->\n<g id=\"node4\" class=\"node\">\n<title>5</title>\n<path fill=\"#f7d7c0\" stroke=\"black\" d=\"M162,-64.5C162,-64.5 12,-64.5 12,-64.5 6,-64.5 0,-58.5 0,-52.5 0,-52.5 0,-23.5 0,-23.5 0,-17.5 6,-11.5 12,-11.5 12,-11.5 162,-11.5 162,-11.5 168,-11.5 174,-17.5 174,-23.5 174,-23.5 174,-52.5 174,-52.5 174,-58.5 168,-64.5 162,-64.5\"/>\n<text text-anchor=\"start\" x=\"8\" y=\"-49.3\" font-family=\"Helvetica,sans-Serif\" font-size=\"14.00\">squared_error = 58.34</text>\n<text text-anchor=\"start\" x=\"20.5\" y=\"-34.3\" font-family=\"Helvetica,sans-Serif\" font-size=\"14.00\">samples = 403697</text>\n<text text-anchor=\"start\" x=\"39\" y=\"-19.3\" font-family=\"Helvetica,sans-Serif\" font-size=\"14.00\">value = &#45;4.29</text>\n</g>\n<!-- 3&#45;&gt;5 -->\n<g id=\"edge3\" class=\"edge\">\n<title>3&#45;&gt;5</title>\n<path fill=\"none\" stroke=\"black\" d=\"M257.35,-746.73C207.14,-669.58 87,-485 87,-485 87,-485 87,-485 87,-334 87,-334 87,-155.68 87,-76.32\"/>\n<polygon fill=\"black\" stroke=\"black\" points=\"90.5,-76.43 87,-66.43 83.5,-76.43 90.5,-76.43\"/>\n</g>\n<!-- 6 -->\n<g id=\"node5\" class=\"node\">\n<title>6</title>\n<path fill=\"#eb9f67\" stroke=\"black\" d=\"M354,-64.5C354,-64.5 204,-64.5 204,-64.5 198,-64.5 192,-58.5 192,-52.5 192,-52.5 192,-23.5 192,-23.5 192,-17.5 198,-11.5 204,-11.5 204,-11.5 354,-11.5 354,-11.5 360,-11.5 366,-17.5 366,-23.5 366,-23.5 366,-52.5 366,-52.5 366,-58.5 360,-64.5 354,-64.5\"/>\n<text text-anchor=\"start\" x=\"200\" y=\"-49.3\" font-family=\"Helvetica,sans-Serif\" font-size=\"14.00\">squared_error = 38.03</text>\n<text text-anchor=\"start\" x=\"212.5\" y=\"-34.3\" font-family=\"Helvetica,sans-Serif\" font-size=\"14.00\">samples = 328096</text>\n<text text-anchor=\"start\" x=\"233.5\" y=\"-19.3\" font-family=\"Helvetica,sans-Serif\" font-size=\"14.00\">value = 2.58</text>\n</g>\n<!-- 3&#45;&gt;6 -->\n<g id=\"edge4\" class=\"edge\">\n<title>3&#45;&gt;6</title>\n<path fill=\"none\" stroke=\"black\" d=\"M279,-746.73C279,-669.58 279,-485 279,-485 279,-485 279,-485 279,-334 279,-334 279,-155.68 279,-76.32\"/>\n<polygon fill=\"black\" stroke=\"black\" points=\"282.5,-76.43 279,-66.43 275.5,-76.43 282.5,-76.43\"/>\n</g>\n<!-- 7 -->\n<g id=\"node7\" class=\"node\">\n<title>7</title>\n<path fill=\"#f7d9c4\" stroke=\"black\" d=\"M1013.5,-666C1013.5,-666 872.5,-666 872.5,-666 866.5,-666 860.5,-660 860.5,-654 860.5,-654 860.5,-610 860.5,-610 860.5,-604 866.5,-598 872.5,-598 872.5,-598 1013.5,-598 1013.5,-598 1019.5,-598 1025.5,-604 1025.5,-610 1025.5,-610 1025.5,-654 1025.5,-654 1025.5,-660 1019.5,-666 1013.5,-666\"/>\n<text text-anchor=\"start\" x=\"895\" y=\"-650.8\" font-family=\"Helvetica,sans-Serif\" font-size=\"14.00\">family ≤ 21.5</text>\n<text text-anchor=\"start\" x=\"868.5\" y=\"-635.8\" font-family=\"Helvetica,sans-Serif\" font-size=\"14.00\">squared_error = 56.8</text>\n<text text-anchor=\"start\" x=\"876.5\" y=\"-620.8\" font-family=\"Helvetica,sans-Serif\" font-size=\"14.00\">samples = 870374</text>\n<text text-anchor=\"start\" x=\"899.5\" y=\"-605.8\" font-family=\"Helvetica,sans-Serif\" font-size=\"14.00\">value = &#45;4.6</text>\n</g>\n<!-- 4&#45;&gt;7 -->\n<g id=\"edge6\" class=\"edge\">\n<title>4&#45;&gt;7</title>\n<path fill=\"none\" stroke=\"black\" d=\"M1126.22,-746.64C1090.74,-724.64 1044.1,-695.71 1006.75,-672.54\"/>\n<polygon fill=\"black\" stroke=\"black\" points=\"1008.6,-669.57 998.26,-667.28 1004.92,-675.52 1008.6,-669.57\"/>\n</g>\n<!-- 8 -->\n<g id=\"node18\" class=\"node\">\n<title>8</title>\n<path fill=\"#f0b78e\" stroke=\"black\" d=\"M1682,-64.5C1682,-64.5 1532,-64.5 1532,-64.5 1526,-64.5 1520,-58.5 1520,-52.5 1520,-52.5 1520,-23.5 1520,-23.5 1520,-17.5 1526,-11.5 1532,-11.5 1532,-11.5 1682,-11.5 1682,-11.5 1688,-11.5 1694,-17.5 1694,-23.5 1694,-23.5 1694,-52.5 1694,-52.5 1694,-58.5 1688,-64.5 1682,-64.5\"/>\n<text text-anchor=\"start\" x=\"1528\" y=\"-49.3\" font-family=\"Helvetica,sans-Serif\" font-size=\"14.00\">squared_error = 43.17</text>\n<text text-anchor=\"start\" x=\"1540.5\" y=\"-34.3\" font-family=\"Helvetica,sans-Serif\" font-size=\"14.00\">samples = 270772</text>\n<text text-anchor=\"start\" x=\"1559\" y=\"-19.3\" font-family=\"Helvetica,sans-Serif\" font-size=\"14.00\">value = &#45;0.42</text>\n</g>\n<!-- 4&#45;&gt;8 -->\n<g id=\"edge17\" class=\"edge\">\n<title>4&#45;&gt;8</title>\n<path fill=\"none\" stroke=\"black\" d=\"M1228.15,-746.73C1339.82,-669.58 1607,-485 1607,-485 1607,-485 1607,-485 1607,-334 1607,-334 1607,-155.68 1607,-76.32\"/>\n<polygon fill=\"black\" stroke=\"black\" points=\"1610.5,-76.43 1607,-66.43 1603.5,-76.43 1610.5,-76.43\"/>\n</g>\n<!-- 9 -->\n<g id=\"node8\" class=\"node\">\n<title>9</title>\n<path fill=\"#fbeee4\" stroke=\"black\" d=\"M537.5,-64.5C537.5,-64.5 396.5,-64.5 396.5,-64.5 390.5,-64.5 384.5,-58.5 384.5,-52.5 384.5,-52.5 384.5,-23.5 384.5,-23.5 384.5,-17.5 390.5,-11.5 396.5,-11.5 396.5,-11.5 537.5,-11.5 537.5,-11.5 543.5,-11.5 549.5,-17.5 549.5,-23.5 549.5,-23.5 549.5,-52.5 549.5,-52.5 549.5,-58.5 543.5,-64.5 537.5,-64.5\"/>\n<text text-anchor=\"start\" x=\"392.5\" y=\"-49.3\" font-family=\"Helvetica,sans-Serif\" font-size=\"14.00\">squared_error = 40.7</text>\n<text text-anchor=\"start\" x=\"400.5\" y=\"-34.3\" font-family=\"Helvetica,sans-Serif\" font-size=\"14.00\">samples = 327591</text>\n<text text-anchor=\"start\" x=\"423.5\" y=\"-19.3\" font-family=\"Helvetica,sans-Serif\" font-size=\"14.00\">value = &#45;7.1</text>\n</g>\n<!-- 7&#45;&gt;9 -->\n<g id=\"edge7\" class=\"edge\">\n<title>7&#45;&gt;9</title>\n<path fill=\"none\" stroke=\"black\" d=\"M914.72,-597.71C886.4,-564.38 847,-518 847,-518 847,-518 581.5,-183.33 494.35,-73.47\"/>\n<polygon fill=\"black\" stroke=\"black\" points=\"497.33,-71.6 488.37,-65.94 491.84,-75.95 497.33,-71.6\"/>\n</g>\n<!-- 10 -->\n<g id=\"node9\" class=\"node\">\n<title>10</title>\n<path fill=\"#f5cdb1\" stroke=\"black\" d=\"M1018,-518C1018,-518 868,-518 868,-518 862,-518 856,-512 856,-506 856,-506 856,-462 856,-462 856,-456 862,-450 868,-450 868,-450 1018,-450 1018,-450 1024,-450 1030,-456 1030,-462 1030,-462 1030,-506 1030,-506 1030,-512 1024,-518 1018,-518\"/>\n<text text-anchor=\"start\" x=\"895\" y=\"-502.8\" font-family=\"Helvetica,sans-Serif\" font-size=\"14.00\">family ≤ 26.5</text>\n<text text-anchor=\"start\" x=\"864\" y=\"-487.8\" font-family=\"Helvetica,sans-Serif\" font-size=\"14.00\">squared_error = 60.46</text>\n<text text-anchor=\"start\" x=\"876.5\" y=\"-472.8\" font-family=\"Helvetica,sans-Serif\" font-size=\"14.00\">samples = 542783</text>\n<text text-anchor=\"start\" x=\"899.5\" y=\"-457.8\" font-family=\"Helvetica,sans-Serif\" font-size=\"14.00\">value = &#45;3.1</text>\n</g>\n<!-- 7&#45;&gt;10 -->\n<g id=\"edge8\" class=\"edge\">\n<title>7&#45;&gt;10</title>\n<path fill=\"none\" stroke=\"black\" d=\"M943,-597.5C943,-577.38 943,-551.52 943,-529.68\"/>\n<polygon fill=\"black\" stroke=\"black\" points=\"946.5,-529.85 943,-519.85 939.5,-529.85 946.5,-529.85\"/>\n</g>\n<!-- 11 -->\n<g id=\"node10\" class=\"node\">\n<title>11</title>\n<path fill=\"#f1bd97\" stroke=\"black\" d=\"M922,-369C922,-369 772,-369 772,-369 766,-369 760,-363 760,-357 760,-357 760,-313 760,-313 760,-307 766,-301 772,-301 772,-301 922,-301 922,-301 928,-301 934,-307 934,-313 934,-313 934,-357 934,-357 934,-363 928,-369 922,-369\"/>\n<text text-anchor=\"start\" x=\"799\" y=\"-353.8\" font-family=\"Helvetica,sans-Serif\" font-size=\"14.00\">family ≤ 24.5</text>\n<text text-anchor=\"start\" x=\"768\" y=\"-338.8\" font-family=\"Helvetica,sans-Serif\" font-size=\"14.00\">squared_error = 55.52</text>\n<text text-anchor=\"start\" x=\"780.5\" y=\"-323.8\" font-family=\"Helvetica,sans-Serif\" font-size=\"14.00\">samples = 225684</text>\n<text text-anchor=\"start\" x=\"799\" y=\"-308.8\" font-family=\"Helvetica,sans-Serif\" font-size=\"14.00\">value = &#45;1.11</text>\n</g>\n<!-- 10&#45;&gt;11 -->\n<g id=\"edge9\" class=\"edge\">\n<title>10&#45;&gt;11</title>\n<path fill=\"none\" stroke=\"black\" d=\"M921.22,-449.64C907.52,-428.67 889.71,-401.4 874.97,-378.83\"/>\n<polygon fill=\"black\" stroke=\"black\" points=\"878.09,-377.2 869.69,-370.75 872.23,-381.03 878.09,-377.2\"/>\n</g>\n<!-- 12 -->\n<g id=\"node13\" class=\"node\">\n<title>12</title>\n<path fill=\"#f7d9c3\" stroke=\"black\" d=\"M1114,-369C1114,-369 964,-369 964,-369 958,-369 952,-363 952,-357 952,-357 952,-313 952,-313 952,-307 958,-301 964,-301 964,-301 1114,-301 1114,-301 1120,-301 1126,-307 1126,-313 1126,-313 1126,-357 1126,-357 1126,-363 1120,-369 1114,-369\"/>\n<text text-anchor=\"start\" x=\"991\" y=\"-353.8\" font-family=\"Helvetica,sans-Serif\" font-size=\"14.00\">family ≤ 28.5</text>\n<text text-anchor=\"start\" x=\"960\" y=\"-338.8\" font-family=\"Helvetica,sans-Serif\" font-size=\"14.00\">squared_error = 59.19</text>\n<text text-anchor=\"start\" x=\"972.5\" y=\"-323.8\" font-family=\"Helvetica,sans-Serif\" font-size=\"14.00\">samples = 317099</text>\n<text text-anchor=\"start\" x=\"991\" y=\"-308.8\" font-family=\"Helvetica,sans-Serif\" font-size=\"14.00\">value = &#45;4.51</text>\n</g>\n<!-- 10&#45;&gt;12 -->\n<g id=\"edge12\" class=\"edge\">\n<title>10&#45;&gt;12</title>\n<path fill=\"none\" stroke=\"black\" d=\"M964.78,-449.64C978.48,-428.67 996.29,-401.4 1011.03,-378.83\"/>\n<polygon fill=\"black\" stroke=\"black\" points=\"1013.77,-381.03 1016.31,-370.75 1007.91,-377.2 1013.77,-381.03\"/>\n</g>\n<!-- 17 -->\n<g id=\"node11\" class=\"node\">\n<title>17</title>\n<path fill=\"#f5d0b6\" stroke=\"black\" d=\"M730,-64.5C730,-64.5 580,-64.5 580,-64.5 574,-64.5 568,-58.5 568,-52.5 568,-52.5 568,-23.5 568,-23.5 568,-17.5 574,-11.5 580,-11.5 580,-11.5 730,-11.5 730,-11.5 736,-11.5 742,-17.5 742,-23.5 742,-23.5 742,-52.5 742,-52.5 742,-58.5 736,-64.5 730,-64.5\"/>\n<text text-anchor=\"start\" x=\"576\" y=\"-49.3\" font-family=\"Helvetica,sans-Serif\" font-size=\"14.00\">squared_error = 51.44</text>\n<text text-anchor=\"start\" x=\"588.5\" y=\"-34.3\" font-family=\"Helvetica,sans-Serif\" font-size=\"14.00\">samples = 142129</text>\n<text text-anchor=\"start\" x=\"611.5\" y=\"-19.3\" font-family=\"Helvetica,sans-Serif\" font-size=\"14.00\">value = &#45;3.5</text>\n</g>\n<!-- 11&#45;&gt;17 -->\n<g id=\"edge10\" class=\"edge\">\n<title>11&#45;&gt;17</title>\n<path fill=\"none\" stroke=\"black\" d=\"M825.35,-300.73C788.82,-244.61 715.29,-131.64 677.92,-74.22\"/>\n<polygon fill=\"black\" stroke=\"black\" points=\"681.03,-72.58 672.64,-66.11 675.16,-76.4 681.03,-72.58\"/>\n</g>\n<!-- 18 -->\n<g id=\"node12\" class=\"node\">\n<title>18</title>\n<path fill=\"#ea9c63\" stroke=\"black\" d=\"M922,-64.5C922,-64.5 772,-64.5 772,-64.5 766,-64.5 760,-58.5 760,-52.5 760,-52.5 760,-23.5 760,-23.5 760,-17.5 766,-11.5 772,-11.5 772,-11.5 922,-11.5 922,-11.5 928,-11.5 934,-17.5 934,-23.5 934,-23.5 934,-52.5 934,-52.5 934,-58.5 928,-64.5 922,-64.5\"/>\n<text text-anchor=\"start\" x=\"768\" y=\"-49.3\" font-family=\"Helvetica,sans-Serif\" font-size=\"14.00\">squared_error = 36.23</text>\n<text text-anchor=\"start\" x=\"785\" y=\"-34.3\" font-family=\"Helvetica,sans-Serif\" font-size=\"14.00\">samples = 83555</text>\n<text text-anchor=\"start\" x=\"801.5\" y=\"-19.3\" font-family=\"Helvetica,sans-Serif\" font-size=\"14.00\">value = 2.95</text>\n</g>\n<!-- 11&#45;&gt;18 -->\n<g id=\"edge11\" class=\"edge\">\n<title>11&#45;&gt;18</title>\n<path fill=\"none\" stroke=\"black\" d=\"M847,-300.73C847,-245.19 847,-133.96 847,-76.02\"/>\n<polygon fill=\"black\" stroke=\"black\" points=\"850.5,-76.35 847,-66.35 843.5,-76.35 850.5,-76.35\"/>\n</g>\n<!-- 13 -->\n<g id=\"node14\" class=\"node\">\n<title>13</title>\n<path fill=\"#ffffff\" stroke=\"black\" d=\"M1114,-64.5C1114,-64.5 964,-64.5 964,-64.5 958,-64.5 952,-58.5 952,-52.5 952,-52.5 952,-23.5 952,-23.5 952,-17.5 958,-11.5 964,-11.5 964,-11.5 1114,-11.5 1114,-11.5 1120,-11.5 1126,-17.5 1126,-23.5 1126,-23.5 1126,-52.5 1126,-52.5 1126,-58.5 1120,-64.5 1114,-64.5\"/>\n<text text-anchor=\"start\" x=\"960\" y=\"-49.3\" font-family=\"Helvetica,sans-Serif\" font-size=\"14.00\">squared_error = 25.67</text>\n<text text-anchor=\"start\" x=\"977\" y=\"-34.3\" font-family=\"Helvetica,sans-Serif\" font-size=\"14.00\">samples = 94771</text>\n<text text-anchor=\"start\" x=\"991\" y=\"-19.3\" font-family=\"Helvetica,sans-Serif\" font-size=\"14.00\">value = &#45;9.18</text>\n</g>\n<!-- 12&#45;&gt;13 -->\n<g id=\"edge13\" class=\"edge\">\n<title>12&#45;&gt;13</title>\n<path fill=\"none\" stroke=\"black\" d=\"M1039,-300.73C1039,-245.19 1039,-133.96 1039,-76.02\"/>\n<polygon fill=\"black\" stroke=\"black\" points=\"1042.5,-76.35 1039,-66.35 1035.5,-76.35 1042.5,-76.35\"/>\n</g>\n<!-- 14 -->\n<g id=\"node15\" class=\"node\">\n<title>14</title>\n<path fill=\"#f4c8a9\" stroke=\"black\" d=\"M1306,-221C1306,-221 1156,-221 1156,-221 1150,-221 1144,-215 1144,-209 1144,-209 1144,-165 1144,-165 1144,-159 1150,-153 1156,-153 1156,-153 1306,-153 1306,-153 1312,-153 1318,-159 1318,-165 1318,-165 1318,-209 1318,-209 1318,-215 1312,-221 1306,-221\"/>\n<text text-anchor=\"start\" x=\"1183\" y=\"-205.8\" font-family=\"Helvetica,sans-Serif\" font-size=\"14.00\">family ≤ 30.5</text>\n<text text-anchor=\"start\" x=\"1152\" y=\"-190.8\" font-family=\"Helvetica,sans-Serif\" font-size=\"14.00\">squared_error = 60.22</text>\n<text text-anchor=\"start\" x=\"1164.5\" y=\"-175.8\" font-family=\"Helvetica,sans-Serif\" font-size=\"14.00\">samples = 222328</text>\n<text text-anchor=\"start\" x=\"1183\" y=\"-160.8\" font-family=\"Helvetica,sans-Serif\" font-size=\"14.00\">value = &#45;2.52</text>\n</g>\n<!-- 12&#45;&gt;14 -->\n<g id=\"edge14\" class=\"edge\">\n<title>12&#45;&gt;14</title>\n<path fill=\"none\" stroke=\"black\" d=\"M1083.05,-300.5C1111.34,-278.99 1148.25,-250.92 1178.13,-228.2\"/>\n<polygon fill=\"black\" stroke=\"black\" points=\"1180.11,-231.09 1185.95,-222.26 1175.87,-225.52 1180.11,-231.09\"/>\n</g>\n<!-- 15 -->\n<g id=\"node16\" class=\"node\">\n<title>15</title>\n<path fill=\"#eba06a\" stroke=\"black\" d=\"M1306,-64.5C1306,-64.5 1156,-64.5 1156,-64.5 1150,-64.5 1144,-58.5 1144,-52.5 1144,-52.5 1144,-23.5 1144,-23.5 1144,-17.5 1150,-11.5 1156,-11.5 1156,-11.5 1306,-11.5 1306,-11.5 1312,-11.5 1318,-17.5 1318,-23.5 1318,-23.5 1318,-52.5 1318,-52.5 1318,-58.5 1312,-64.5 1306,-64.5\"/>\n<text text-anchor=\"start\" x=\"1152\" y=\"-49.3\" font-family=\"Helvetica,sans-Serif\" font-size=\"14.00\">squared_error = 33.22</text>\n<text text-anchor=\"start\" x=\"1169\" y=\"-34.3\" font-family=\"Helvetica,sans-Serif\" font-size=\"14.00\">samples = 86112</text>\n<text text-anchor=\"start\" x=\"1190\" y=\"-19.3\" font-family=\"Helvetica,sans-Serif\" font-size=\"14.00\">value = 2.4</text>\n</g>\n<!-- 14&#45;&gt;15 -->\n<g id=\"edge15\" class=\"edge\">\n<title>14&#45;&gt;15</title>\n<path fill=\"none\" stroke=\"black\" d=\"M1231,-152.64C1231,-129.89 1231,-99.73 1231,-76.2\"/>\n<polygon fill=\"black\" stroke=\"black\" points=\"1234.5,-76.42 1231,-66.42 1227.5,-76.42 1234.5,-76.42\"/>\n</g>\n<!-- 16 -->\n<g id=\"node17\" class=\"node\">\n<title>16</title>\n<path fill=\"#f9e2d1\" stroke=\"black\" d=\"M1489.5,-64.5C1489.5,-64.5 1348.5,-64.5 1348.5,-64.5 1342.5,-64.5 1336.5,-58.5 1336.5,-52.5 1336.5,-52.5 1336.5,-23.5 1336.5,-23.5 1336.5,-17.5 1342.5,-11.5 1348.5,-11.5 1348.5,-11.5 1489.5,-11.5 1489.5,-11.5 1495.5,-11.5 1501.5,-17.5 1501.5,-23.5 1501.5,-23.5 1501.5,-52.5 1501.5,-52.5 1501.5,-58.5 1495.5,-64.5 1489.5,-64.5\"/>\n<text text-anchor=\"start\" x=\"1344.5\" y=\"-49.3\" font-family=\"Helvetica,sans-Serif\" font-size=\"14.00\">squared_error = 52.3</text>\n<text text-anchor=\"start\" x=\"1352.5\" y=\"-34.3\" font-family=\"Helvetica,sans-Serif\" font-size=\"14.00\">samples = 136216</text>\n<text text-anchor=\"start\" x=\"1371\" y=\"-19.3\" font-family=\"Helvetica,sans-Serif\" font-size=\"14.00\">value = &#45;5.63</text>\n</g>\n<!-- 14&#45;&gt;16 -->\n<g id=\"edge16\" class=\"edge\">\n<title>14&#45;&gt;16</title>\n<path fill=\"none\" stroke=\"black\" d=\"M1273.66,-152.64C1304.62,-128.43 1346.3,-95.84 1377.09,-71.77\"/>\n<polygon fill=\"black\" stroke=\"black\" points=\"1378.95,-74.76 1384.67,-65.84 1374.64,-69.24 1378.95,-74.76\"/>\n</g>\n</g>\n</svg>\n",
      "text/plain": [
       "<graphviz.sources.Source at 0x7f2aa49e4d90>"
      ]
     },
     "execution_count": 48,
     "metadata": {},
     "output_type": "execute_result"
    }
   ],
   "source": [
    "draw_tree(m, xs, size=12, leaves_parallel=True, precision=2 )"
   ]
  },
  {
   "cell_type": "code",
   "execution_count": 51,
   "metadata": {},
   "outputs": [],
   "source": [
    "def r_mse(pred, y):\n",
    "    return round(math.sqrt(((pred-y)**2).mean()), 6)"
   ]
  },
  {
   "cell_type": "code",
   "execution_count": 52,
   "metadata": {},
   "outputs": [],
   "source": [
    "def m_rmse(m, xs, y):\n",
    "    return r_mse(m.predict(xs), y)"
   ]
  },
  {
   "cell_type": "code",
   "execution_count": 53,
   "metadata": {},
   "outputs": [
    {
     "data": {
      "text/plain": [
       "6.329523"
      ]
     },
     "execution_count": 53,
     "metadata": {},
     "output_type": "execute_result"
    }
   ],
   "source": [
    "m_rmse(m, xs, y)"
   ]
  },
  {
   "cell_type": "code",
   "execution_count": null,
   "metadata": {},
   "outputs": [],
   "source": []
  }
 ],
 "metadata": {
  "kernelspec": {
   "display_name": "base",
   "language": "python",
   "name": "python3"
  },
  "language_info": {
   "codemirror_mode": {
    "name": "ipython",
    "version": 3
   },
   "file_extension": ".py",
   "mimetype": "text/x-python",
   "name": "python",
   "nbconvert_exporter": "python",
   "pygments_lexer": "ipython3",
   "version": "3.10.6"
  },
  "orig_nbformat": 4,
  "vscode": {
   "interpreter": {
    "hash": "f4702a165a03ade35e40e0221d250a3a44a346cfc16a49ce6d051d1595069b46"
   }
  }
 },
 "nbformat": 4,
 "nbformat_minor": 2
}
