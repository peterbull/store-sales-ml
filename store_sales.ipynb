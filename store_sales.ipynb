{
 "cells": [
  {
   "attachments": {},
   "cell_type": "markdown",
   "metadata": {},
   "source": [
    "### Store Sales Forescasting"
   ]
  },
  {
   "attachments": {},
   "cell_type": "markdown",
   "metadata": {},
   "source": [
    "For the Kaggle competition [Store Sales](https://www.kaggle.com/competitions/store-sales-time-series-forecasting/overview)\n",
    "\n",
    "Forecast store sales based on data from Corporación Favorita, a large Ecuadorian-based grocery retailer."
   ]
  },
  {
   "attachments": {},
   "cell_type": "markdown",
   "metadata": {},
   "source": [
    "<b>train.csv</b>\n",
    "\n",
    "- The training data, comprising time series of features <b>store_nbr</b>, <b>family</b>, and <b>onpromotion</b> as well as the target <b>sales</b>.\n",
    "- <b>store_nbr</b> identifies the store at which the products are sold.\n",
    "- <b>family</b> identifies the type of product sold.\n",
    "- <b>sales</b> gives the total sales for a product family at a particular store at a given date. Fractional values are possible since products can be sold in fractional units (1.5 kg of cheese, for instance, as opposed to 1 bag of chips).\n",
    "- <b>onpromotion</b> gives the total number of items in a product family that were being promoted at a store at a given date.\n",
    "\n",
    "<b>test.csv</b>\n",
    "\n",
    "- The test data, having the same features as the training data. You will predict the target <b>sales</b> for the dates in this file.\n",
    "- The dates in the test data are for the 15 days after the last date in the training data.\n",
    "\n",
    "<b>sample_submission.csv</b>\n",
    "\n",
    "- A sample submission file in the correct format.\n",
    "\n",
    "<b>stores.csv</b>\n",
    "\n",
    "- Store metadata, including <b>city</b>, <b>state</b>, <b>type</b>, and <b>cluster</b>.\n",
    "- <b>cluster</b> is a grouping of similar stores.\n",
    "\n",
    "<b>oil.csv</b>\n",
    "\n",
    "- Daily oil price. Includes values during both the train and test data timeframes. (Ecuador is an oil-dependent country and it's economical health is highly vulnerable to shocks in oil prices.)\n",
    "\n",
    "<b>holidays_events.csv</b>\n",
    "\n",
    "- Holidays and Events, with metadata\n",
    "NOTE: Pay special attention to the <b>transferred</b> column. A holiday that is transferred officially falls on that calendar day, but was moved to another date by the government. A transferred day is more like a normal day than a holiday. To find the day that it was actually celebrated, look for the corresponding row where type is Transfer. For example, the holiday Independencia de Guayaquil was transferred from 2012-10-09 to 2012-10-12, which means it was celebrated on 2012-10-12. Days that are type Bridge are extra days that are added to a holiday (e.g., to extend the break across a long weekend). These are frequently made up by the type Work Day which is a day not normally scheduled for work (e.g., Saturday) that is meant to payback the Bridge.\n",
    "- Additional holidays are days added a regular calendar holiday, for example, as typically happens around Christmas (making Christmas Eve a holiday).\n",
    "\n",
    "<b>Additional Notes</b>\n",
    "\n",
    "- Wages in the public sector are paid every two weeks on the 15 th and on the last day of the month. Supermarket sales could be affected by this.\n",
    "- A magnitude 7.8 earthquake struck Ecuador on April 16, 2016. People rallied in relief efforts donating water and other first need products which greatly affected supermarket sales for several weeks after the earthquake."
   ]
  },
  {
   "attachments": {},
   "cell_type": "markdown",
   "metadata": {},
   "source": [
    "Scoring based on <b>RMSLE</b>"
   ]
  },
  {
   "cell_type": "code",
   "execution_count": 1,
   "metadata": {},
   "outputs": [],
   "source": [
    "#The Following cell of code is used everytime FASTAI library is used.\n",
    "#They tell the notebook to reload any changes made to any libraries used.\n",
    "#They also ensure that any graphs are plotted are shown in this notebook\n",
    "%reload_ext autoreload\n",
    "%autoreload 2\n",
    "%matplotlib inline"
   ]
  },
  {
   "cell_type": "code",
   "execution_count": 2,
   "metadata": {},
   "outputs": [],
   "source": [
    "from fastai.tabular.all import *\n",
    "from fastbook import *\n",
    "\n",
    "from sklearn.ensemble import RandomForestRegressor\n",
    "from sklearn.tree import DecisionTreeRegressor\n",
    "from sklearn.preprocessing import LabelEncoder\n",
    "from sklearn.metrics import mean_squared_log_error\n",
    "\n",
    "import seaborn as sns\n",
    "\n",
    "from dtreeviz.trees import *\n",
    "import dtreeviz"
   ]
  },
  {
   "cell_type": "code",
   "execution_count": 3,
   "metadata": {},
   "outputs": [],
   "source": [
    "#| export\n",
    "iskaggle = os.environ.get('KAGGLE_KERNEL_RUN_TYPE', '')\n",
    "creds = ''\n"
   ]
  },
  {
   "cell_type": "code",
   "execution_count": 4,
   "metadata": {},
   "outputs": [],
   "source": [
    "#| export\n",
    "cred_path = Path('~/.kaggle/kaggle.json').expanduser()\n",
    "if not cred_path.exists():\n",
    "    cred_path.parent.mkdir(exist_ok=True)\n",
    "    cred_path.write_text(creds)\n",
    "    cred_path.chmod(0o600)\n"
   ]
  },
  {
   "cell_type": "code",
   "execution_count": 5,
   "metadata": {},
   "outputs": [],
   "source": [
    "#| export\n",
    "path = Path('store-sales-time-series-forecasting')"
   ]
  },
  {
   "cell_type": "code",
   "execution_count": 6,
   "metadata": {},
   "outputs": [],
   "source": [
    "#| export\n",
    "if not iskaggle and not path.exists():\n",
    "    import zipfile, kaggle\n",
    "    kaggle.api.competition_download_cli(str(path))    \n",
    "    zipfile.ZipFile(f'{path}.zip').extractall(path)\n"
   ]
  },
  {
   "cell_type": "code",
   "execution_count": 7,
   "metadata": {},
   "outputs": [],
   "source": [
    "#| export\n",
    "if iskaggle:\n",
    "    path = Path('../input/store-sales-time-series-forecasting')\n",
    "    ! pip install -q dataset"
   ]
  },
  {
   "cell_type": "code",
   "execution_count": 8,
   "metadata": {},
   "outputs": [
    {
     "data": {
      "text/plain": [
       "[Path('store-sales-time-series-forecasting/sample_submission.csv'),\n",
       " Path('store-sales-time-series-forecasting/holidays_events.csv'),\n",
       " Path('store-sales-time-series-forecasting/oil.csv'),\n",
       " Path('store-sales-time-series-forecasting/test.csv'),\n",
       " Path('store-sales-time-series-forecasting/train.csv'),\n",
       " Path('store-sales-time-series-forecasting/transactions.csv'),\n",
       " Path('store-sales-time-series-forecasting/stores.csv')]"
      ]
     },
     "execution_count": 8,
     "metadata": {},
     "output_type": "execute_result"
    }
   ],
   "source": [
    "[x for x in path.ls()]"
   ]
  },
  {
   "cell_type": "code",
   "execution_count": 9,
   "metadata": {},
   "outputs": [],
   "source": [
    "train_df = pd.read_csv(path/'train.csv', low_memory=False)\n",
    "test_df = pd.read_csv(path/'test.csv', low_memory=False)\n",
    "sample_df = pd.read_csv(path/'sample_submission.csv', low_memory=False)\n",
    "stores_df = pd.read_csv(path/'stores.csv', low_memory=False)\n",
    "oil_df = pd.read_csv(path/'oil.csv', low_memory=False)\n",
    "hol_events_df = pd.read_csv(path/'holidays_events.csv', low_memory=False)\n",
    "transactions_df = pd.read_csv(path/'transactions.csv', low_memory=False)"
   ]
  },
  {
   "cell_type": "code",
   "execution_count": 10,
   "metadata": {},
   "outputs": [
    {
     "data": {
      "text/html": [
       "<div>\n",
       "<style scoped>\n",
       "    .dataframe tbody tr th:only-of-type {\n",
       "        vertical-align: middle;\n",
       "    }\n",
       "\n",
       "    .dataframe tbody tr th {\n",
       "        vertical-align: top;\n",
       "    }\n",
       "\n",
       "    .dataframe thead th {\n",
       "        text-align: right;\n",
       "    }\n",
       "</style>\n",
       "<table border=\"1\" class=\"dataframe\">\n",
       "  <thead>\n",
       "    <tr style=\"text-align: right;\">\n",
       "      <th></th>\n",
       "      <th>id</th>\n",
       "      <th>date</th>\n",
       "      <th>store_nbr</th>\n",
       "      <th>family</th>\n",
       "      <th>sales</th>\n",
       "      <th>onpromotion</th>\n",
       "    </tr>\n",
       "  </thead>\n",
       "  <tbody>\n",
       "    <tr>\n",
       "      <th>2483653</th>\n",
       "      <td>2483653</td>\n",
       "      <td>2016-10-28</td>\n",
       "      <td>46</td>\n",
       "      <td>CLEANING</td>\n",
       "      <td>2576.000</td>\n",
       "      <td>61</td>\n",
       "    </tr>\n",
       "    <tr>\n",
       "      <th>2761877</th>\n",
       "      <td>2761877</td>\n",
       "      <td>2017-04-03</td>\n",
       "      <td>52</td>\n",
       "      <td>DAIRY</td>\n",
       "      <td>0.000</td>\n",
       "      <td>0</td>\n",
       "    </tr>\n",
       "    <tr>\n",
       "      <th>1217988</th>\n",
       "      <td>1217988</td>\n",
       "      <td>2014-11-16</td>\n",
       "      <td>33</td>\n",
       "      <td>MEATS</td>\n",
       "      <td>357.354</td>\n",
       "      <td>2</td>\n",
       "    </tr>\n",
       "    <tr>\n",
       "      <th>1231938</th>\n",
       "      <td>1231938</td>\n",
       "      <td>2014-11-24</td>\n",
       "      <td>25</td>\n",
       "      <td>HOME AND KITCHEN I</td>\n",
       "      <td>5.000</td>\n",
       "      <td>0</td>\n",
       "    </tr>\n",
       "    <tr>\n",
       "      <th>528175</th>\n",
       "      <td>528175</td>\n",
       "      <td>2013-10-24</td>\n",
       "      <td>29</td>\n",
       "      <td>EGGS</td>\n",
       "      <td>0.000</td>\n",
       "      <td>0</td>\n",
       "    </tr>\n",
       "  </tbody>\n",
       "</table>\n",
       "</div>"
      ],
      "text/plain": [
       "              id       date  store_nbr              family     sales  \\\n",
       "2483653  2483653 2016-10-28         46            CLEANING  2576.000   \n",
       "2761877  2761877 2017-04-03         52               DAIRY     0.000   \n",
       "1217988  1217988 2014-11-16         33               MEATS   357.354   \n",
       "1231938  1231938 2014-11-24         25  HOME AND KITCHEN I     5.000   \n",
       "528175    528175 2013-10-24         29                EGGS     0.000   \n",
       "\n",
       "         onpromotion  \n",
       "2483653           61  \n",
       "2761877            0  \n",
       "1217988            2  \n",
       "1231938            0  \n",
       "528175             0  "
      ]
     },
     "execution_count": 10,
     "metadata": {},
     "output_type": "execute_result"
    }
   ],
   "source": [
    "train_df['date'] = pd.to_datetime(train_df['date'])\n",
    "train_df.sample(n=5)"
   ]
  },
  {
   "cell_type": "code",
   "execution_count": 11,
   "metadata": {},
   "outputs": [],
   "source": [
    "# train_df = add_datepart(train_df, 'date')"
   ]
  },
  {
   "cell_type": "code",
   "execution_count": 12,
   "metadata": {},
   "outputs": [],
   "source": [
    "combined_df = train_df"
   ]
  },
  {
   "cell_type": "code",
   "execution_count": 13,
   "metadata": {},
   "outputs": [
    {
     "data": {
      "text/html": [
       "<div>\n",
       "<style scoped>\n",
       "    .dataframe tbody tr th:only-of-type {\n",
       "        vertical-align: middle;\n",
       "    }\n",
       "\n",
       "    .dataframe tbody tr th {\n",
       "        vertical-align: top;\n",
       "    }\n",
       "\n",
       "    .dataframe thead th {\n",
       "        text-align: right;\n",
       "    }\n",
       "</style>\n",
       "<table border=\"1\" class=\"dataframe\">\n",
       "  <thead>\n",
       "    <tr style=\"text-align: right;\">\n",
       "      <th></th>\n",
       "      <th>id</th>\n",
       "      <th>date</th>\n",
       "      <th>store_nbr</th>\n",
       "      <th>family</th>\n",
       "      <th>sales</th>\n",
       "      <th>onpromotion</th>\n",
       "    </tr>\n",
       "  </thead>\n",
       "  <tbody>\n",
       "    <tr>\n",
       "      <th>0</th>\n",
       "      <td>0</td>\n",
       "      <td>2013-01-01</td>\n",
       "      <td>1</td>\n",
       "      <td>AUTOMOTIVE</td>\n",
       "      <td>0.0</td>\n",
       "      <td>0</td>\n",
       "    </tr>\n",
       "    <tr>\n",
       "      <th>1</th>\n",
       "      <td>1</td>\n",
       "      <td>2013-01-01</td>\n",
       "      <td>1</td>\n",
       "      <td>BABY CARE</td>\n",
       "      <td>0.0</td>\n",
       "      <td>0</td>\n",
       "    </tr>\n",
       "    <tr>\n",
       "      <th>2</th>\n",
       "      <td>2</td>\n",
       "      <td>2013-01-01</td>\n",
       "      <td>1</td>\n",
       "      <td>BEAUTY</td>\n",
       "      <td>0.0</td>\n",
       "      <td>0</td>\n",
       "    </tr>\n",
       "    <tr>\n",
       "      <th>3</th>\n",
       "      <td>3</td>\n",
       "      <td>2013-01-01</td>\n",
       "      <td>1</td>\n",
       "      <td>BEVERAGES</td>\n",
       "      <td>0.0</td>\n",
       "      <td>0</td>\n",
       "    </tr>\n",
       "    <tr>\n",
       "      <th>4</th>\n",
       "      <td>4</td>\n",
       "      <td>2013-01-01</td>\n",
       "      <td>1</td>\n",
       "      <td>BOOKS</td>\n",
       "      <td>0.0</td>\n",
       "      <td>0</td>\n",
       "    </tr>\n",
       "  </tbody>\n",
       "</table>\n",
       "</div>"
      ],
      "text/plain": [
       "   id       date  store_nbr      family  sales  onpromotion\n",
       "0   0 2013-01-01          1  AUTOMOTIVE    0.0            0\n",
       "1   1 2013-01-01          1   BABY CARE    0.0            0\n",
       "2   2 2013-01-01          1      BEAUTY    0.0            0\n",
       "3   3 2013-01-01          1   BEVERAGES    0.0            0\n",
       "4   4 2013-01-01          1       BOOKS    0.0            0"
      ]
     },
     "execution_count": 13,
     "metadata": {},
     "output_type": "execute_result"
    }
   ],
   "source": [
    "train_df.head()"
   ]
  },
  {
   "cell_type": "code",
   "execution_count": 48,
   "metadata": {},
   "outputs": [
    {
     "data": {
      "text/plain": [
       "(3000888, 6)"
      ]
     },
     "execution_count": 48,
     "metadata": {},
     "output_type": "execute_result"
    }
   ],
   "source": [
    "train_df.shape"
   ]
  },
  {
   "cell_type": "code",
   "execution_count": 14,
   "metadata": {},
   "outputs": [
    {
     "data": {
      "text/html": [
       "<div>\n",
       "<style scoped>\n",
       "    .dataframe tbody tr th:only-of-type {\n",
       "        vertical-align: middle;\n",
       "    }\n",
       "\n",
       "    .dataframe tbody tr th {\n",
       "        vertical-align: top;\n",
       "    }\n",
       "\n",
       "    .dataframe thead th {\n",
       "        text-align: right;\n",
       "    }\n",
       "</style>\n",
       "<table border=\"1\" class=\"dataframe\">\n",
       "  <thead>\n",
       "    <tr style=\"text-align: right;\">\n",
       "      <th></th>\n",
       "      <th>id</th>\n",
       "      <th>date</th>\n",
       "      <th>store_nbr</th>\n",
       "      <th>family</th>\n",
       "      <th>sales</th>\n",
       "      <th>onpromotion</th>\n",
       "    </tr>\n",
       "  </thead>\n",
       "  <tbody>\n",
       "    <tr>\n",
       "      <th>0</th>\n",
       "      <td>0</td>\n",
       "      <td>2013-01-01</td>\n",
       "      <td>1</td>\n",
       "      <td>AUTOMOTIVE</td>\n",
       "      <td>0.000</td>\n",
       "      <td>0</td>\n",
       "    </tr>\n",
       "    <tr>\n",
       "      <th>1194</th>\n",
       "      <td>1194</td>\n",
       "      <td>2013-01-01</td>\n",
       "      <td>42</td>\n",
       "      <td>CELEBRATION</td>\n",
       "      <td>0.000</td>\n",
       "      <td>0</td>\n",
       "    </tr>\n",
       "    <tr>\n",
       "      <th>1193</th>\n",
       "      <td>1193</td>\n",
       "      <td>2013-01-01</td>\n",
       "      <td>42</td>\n",
       "      <td>BREAD/BAKERY</td>\n",
       "      <td>0.000</td>\n",
       "      <td>0</td>\n",
       "    </tr>\n",
       "    <tr>\n",
       "      <th>1192</th>\n",
       "      <td>1192</td>\n",
       "      <td>2013-01-01</td>\n",
       "      <td>42</td>\n",
       "      <td>BOOKS</td>\n",
       "      <td>0.000</td>\n",
       "      <td>0</td>\n",
       "    </tr>\n",
       "    <tr>\n",
       "      <th>1191</th>\n",
       "      <td>1191</td>\n",
       "      <td>2013-01-01</td>\n",
       "      <td>42</td>\n",
       "      <td>BEVERAGES</td>\n",
       "      <td>0.000</td>\n",
       "      <td>0</td>\n",
       "    </tr>\n",
       "    <tr>\n",
       "      <th>...</th>\n",
       "      <td>...</td>\n",
       "      <td>...</td>\n",
       "      <td>...</td>\n",
       "      <td>...</td>\n",
       "      <td>...</td>\n",
       "      <td>...</td>\n",
       "    </tr>\n",
       "    <tr>\n",
       "      <th>2999693</th>\n",
       "      <td>2999693</td>\n",
       "      <td>2017-08-15</td>\n",
       "      <td>25</td>\n",
       "      <td>PET SUPPLIES</td>\n",
       "      <td>3.000</td>\n",
       "      <td>0</td>\n",
       "    </tr>\n",
       "    <tr>\n",
       "      <th>2999692</th>\n",
       "      <td>2999692</td>\n",
       "      <td>2017-08-15</td>\n",
       "      <td>25</td>\n",
       "      <td>PERSONAL CARE</td>\n",
       "      <td>93.000</td>\n",
       "      <td>8</td>\n",
       "    </tr>\n",
       "    <tr>\n",
       "      <th>2999691</th>\n",
       "      <td>2999691</td>\n",
       "      <td>2017-08-15</td>\n",
       "      <td>25</td>\n",
       "      <td>MEATS</td>\n",
       "      <td>180.107</td>\n",
       "      <td>0</td>\n",
       "    </tr>\n",
       "    <tr>\n",
       "      <th>2999702</th>\n",
       "      <td>2999702</td>\n",
       "      <td>2017-08-15</td>\n",
       "      <td>26</td>\n",
       "      <td>BEAUTY</td>\n",
       "      <td>0.000</td>\n",
       "      <td>0</td>\n",
       "    </tr>\n",
       "    <tr>\n",
       "      <th>3000887</th>\n",
       "      <td>3000887</td>\n",
       "      <td>2017-08-15</td>\n",
       "      <td>9</td>\n",
       "      <td>SEAFOOD</td>\n",
       "      <td>16.000</td>\n",
       "      <td>0</td>\n",
       "    </tr>\n",
       "  </tbody>\n",
       "</table>\n",
       "<p>3000888 rows × 6 columns</p>\n",
       "</div>"
      ],
      "text/plain": [
       "              id       date  store_nbr         family    sales  onpromotion\n",
       "0              0 2013-01-01          1     AUTOMOTIVE    0.000            0\n",
       "1194        1194 2013-01-01         42    CELEBRATION    0.000            0\n",
       "1193        1193 2013-01-01         42   BREAD/BAKERY    0.000            0\n",
       "1192        1192 2013-01-01         42          BOOKS    0.000            0\n",
       "1191        1191 2013-01-01         42      BEVERAGES    0.000            0\n",
       "...          ...        ...        ...            ...      ...          ...\n",
       "2999693  2999693 2017-08-15         25   PET SUPPLIES    3.000            0\n",
       "2999692  2999692 2017-08-15         25  PERSONAL CARE   93.000            8\n",
       "2999691  2999691 2017-08-15         25          MEATS  180.107            0\n",
       "2999702  2999702 2017-08-15         26         BEAUTY    0.000            0\n",
       "3000887  3000887 2017-08-15          9        SEAFOOD   16.000            0\n",
       "\n",
       "[3000888 rows x 6 columns]"
      ]
     },
     "execution_count": 14,
     "metadata": {},
     "output_type": "execute_result"
    }
   ],
   "source": [
    "train_df.sort_values(by='date')"
   ]
  },
  {
   "cell_type": "code",
   "execution_count": 15,
   "metadata": {},
   "outputs": [
    {
     "data": {
      "text/html": [
       "<div>\n",
       "<style scoped>\n",
       "    .dataframe tbody tr th:only-of-type {\n",
       "        vertical-align: middle;\n",
       "    }\n",
       "\n",
       "    .dataframe tbody tr th {\n",
       "        vertical-align: top;\n",
       "    }\n",
       "\n",
       "    .dataframe thead th {\n",
       "        text-align: right;\n",
       "    }\n",
       "</style>\n",
       "<table border=\"1\" class=\"dataframe\">\n",
       "  <thead>\n",
       "    <tr style=\"text-align: right;\">\n",
       "      <th></th>\n",
       "      <th>id</th>\n",
       "      <th>date</th>\n",
       "      <th>store_nbr</th>\n",
       "      <th>family</th>\n",
       "      <th>onpromotion</th>\n",
       "    </tr>\n",
       "  </thead>\n",
       "  <tbody>\n",
       "    <tr>\n",
       "      <th>0</th>\n",
       "      <td>3000888</td>\n",
       "      <td>2017-08-16</td>\n",
       "      <td>1</td>\n",
       "      <td>AUTOMOTIVE</td>\n",
       "      <td>0</td>\n",
       "    </tr>\n",
       "    <tr>\n",
       "      <th>1</th>\n",
       "      <td>3000889</td>\n",
       "      <td>2017-08-16</td>\n",
       "      <td>1</td>\n",
       "      <td>BABY CARE</td>\n",
       "      <td>0</td>\n",
       "    </tr>\n",
       "    <tr>\n",
       "      <th>2</th>\n",
       "      <td>3000890</td>\n",
       "      <td>2017-08-16</td>\n",
       "      <td>1</td>\n",
       "      <td>BEAUTY</td>\n",
       "      <td>2</td>\n",
       "    </tr>\n",
       "    <tr>\n",
       "      <th>3</th>\n",
       "      <td>3000891</td>\n",
       "      <td>2017-08-16</td>\n",
       "      <td>1</td>\n",
       "      <td>BEVERAGES</td>\n",
       "      <td>20</td>\n",
       "    </tr>\n",
       "    <tr>\n",
       "      <th>4</th>\n",
       "      <td>3000892</td>\n",
       "      <td>2017-08-16</td>\n",
       "      <td>1</td>\n",
       "      <td>BOOKS</td>\n",
       "      <td>0</td>\n",
       "    </tr>\n",
       "  </tbody>\n",
       "</table>\n",
       "</div>"
      ],
      "text/plain": [
       "        id       date  store_nbr      family  onpromotion\n",
       "0  3000888 2017-08-16          1  AUTOMOTIVE            0\n",
       "1  3000889 2017-08-16          1   BABY CARE            0\n",
       "2  3000890 2017-08-16          1      BEAUTY            2\n",
       "3  3000891 2017-08-16          1   BEVERAGES           20\n",
       "4  3000892 2017-08-16          1       BOOKS            0"
      ]
     },
     "execution_count": 15,
     "metadata": {},
     "output_type": "execute_result"
    }
   ],
   "source": [
    "test_df['date'] = pd.to_datetime(test_df['date'])\n",
    "# test_df = add_datepart(test_df, 'date')\n",
    "test_df.head()"
   ]
  },
  {
   "cell_type": "code",
   "execution_count": 16,
   "metadata": {},
   "outputs": [],
   "source": [
    "# combined_df = pd.concat([train_df, test_df], ignore_index=True)\n",
    "# combined_df.sort_values(by='id')"
   ]
  },
  {
   "cell_type": "code",
   "execution_count": 17,
   "metadata": {},
   "outputs": [],
   "source": [
    "# hol_events_df['date'] = pd.to_datetime(hol_events_df['date'])\n",
    "# hol_events_df.head()"
   ]
  },
  {
   "cell_type": "code",
   "execution_count": 18,
   "metadata": {},
   "outputs": [],
   "source": [
    "# combined_df = pd.merge(combined_df, hol_events_df, on='date').set_index('date').drop_duplicates()\n",
    "# combined_df.head()"
   ]
  },
  {
   "cell_type": "code",
   "execution_count": 19,
   "metadata": {},
   "outputs": [
    {
     "data": {
      "text/html": [
       "<div>\n",
       "<style scoped>\n",
       "    .dataframe tbody tr th:only-of-type {\n",
       "        vertical-align: middle;\n",
       "    }\n",
       "\n",
       "    .dataframe tbody tr th {\n",
       "        vertical-align: top;\n",
       "    }\n",
       "\n",
       "    .dataframe thead th {\n",
       "        text-align: right;\n",
       "    }\n",
       "</style>\n",
       "<table border=\"1\" class=\"dataframe\">\n",
       "  <thead>\n",
       "    <tr style=\"text-align: right;\">\n",
       "      <th></th>\n",
       "      <th>store_nbr</th>\n",
       "      <th>city</th>\n",
       "      <th>state</th>\n",
       "      <th>type</th>\n",
       "      <th>cluster</th>\n",
       "    </tr>\n",
       "  </thead>\n",
       "  <tbody>\n",
       "    <tr>\n",
       "      <th>39</th>\n",
       "      <td>40</td>\n",
       "      <td>Machala</td>\n",
       "      <td>El Oro</td>\n",
       "      <td>C</td>\n",
       "      <td>3</td>\n",
       "    </tr>\n",
       "    <tr>\n",
       "      <th>49</th>\n",
       "      <td>50</td>\n",
       "      <td>Ambato</td>\n",
       "      <td>Tungurahua</td>\n",
       "      <td>A</td>\n",
       "      <td>14</td>\n",
       "    </tr>\n",
       "    <tr>\n",
       "      <th>18</th>\n",
       "      <td>19</td>\n",
       "      <td>Guaranda</td>\n",
       "      <td>Bolivar</td>\n",
       "      <td>C</td>\n",
       "      <td>15</td>\n",
       "    </tr>\n",
       "    <tr>\n",
       "      <th>41</th>\n",
       "      <td>42</td>\n",
       "      <td>Cuenca</td>\n",
       "      <td>Azuay</td>\n",
       "      <td>D</td>\n",
       "      <td>2</td>\n",
       "    </tr>\n",
       "    <tr>\n",
       "      <th>38</th>\n",
       "      <td>39</td>\n",
       "      <td>Cuenca</td>\n",
       "      <td>Azuay</td>\n",
       "      <td>B</td>\n",
       "      <td>6</td>\n",
       "    </tr>\n",
       "  </tbody>\n",
       "</table>\n",
       "</div>"
      ],
      "text/plain": [
       "    store_nbr      city       state type  cluster\n",
       "39         40   Machala      El Oro    C        3\n",
       "49         50    Ambato  Tungurahua    A       14\n",
       "18         19  Guaranda     Bolivar    C       15\n",
       "41         42    Cuenca       Azuay    D        2\n",
       "38         39    Cuenca       Azuay    B        6"
      ]
     },
     "execution_count": 19,
     "metadata": {},
     "output_type": "execute_result"
    }
   ],
   "source": [
    "stores_df.sample(n=5)"
   ]
  },
  {
   "cell_type": "code",
   "execution_count": 20,
   "metadata": {},
   "outputs": [
    {
     "data": {
      "text/html": [
       "<div>\n",
       "<style scoped>\n",
       "    .dataframe tbody tr th:only-of-type {\n",
       "        vertical-align: middle;\n",
       "    }\n",
       "\n",
       "    .dataframe tbody tr th {\n",
       "        vertical-align: top;\n",
       "    }\n",
       "\n",
       "    .dataframe thead th {\n",
       "        text-align: right;\n",
       "    }\n",
       "</style>\n",
       "<table border=\"1\" class=\"dataframe\">\n",
       "  <thead>\n",
       "    <tr style=\"text-align: right;\">\n",
       "      <th></th>\n",
       "      <th>date</th>\n",
       "      <th>dcoilwtico</th>\n",
       "    </tr>\n",
       "  </thead>\n",
       "  <tbody>\n",
       "    <tr>\n",
       "      <th>0</th>\n",
       "      <td>2013-01-01</td>\n",
       "      <td>NaN</td>\n",
       "    </tr>\n",
       "    <tr>\n",
       "      <th>1</th>\n",
       "      <td>2013-01-02</td>\n",
       "      <td>93.14</td>\n",
       "    </tr>\n",
       "    <tr>\n",
       "      <th>2</th>\n",
       "      <td>2013-01-03</td>\n",
       "      <td>92.97</td>\n",
       "    </tr>\n",
       "    <tr>\n",
       "      <th>3</th>\n",
       "      <td>2013-01-04</td>\n",
       "      <td>93.12</td>\n",
       "    </tr>\n",
       "    <tr>\n",
       "      <th>4</th>\n",
       "      <td>2013-01-07</td>\n",
       "      <td>93.20</td>\n",
       "    </tr>\n",
       "  </tbody>\n",
       "</table>\n",
       "</div>"
      ],
      "text/plain": [
       "         date  dcoilwtico\n",
       "0  2013-01-01         NaN\n",
       "1  2013-01-02       93.14\n",
       "2  2013-01-03       92.97\n",
       "3  2013-01-04       93.12\n",
       "4  2013-01-07       93.20"
      ]
     },
     "execution_count": 20,
     "metadata": {},
     "output_type": "execute_result"
    }
   ],
   "source": [
    "oil_df.head()"
   ]
  },
  {
   "cell_type": "code",
   "execution_count": 21,
   "metadata": {},
   "outputs": [
    {
     "data": {
      "text/html": [
       "<div>\n",
       "<style scoped>\n",
       "    .dataframe tbody tr th:only-of-type {\n",
       "        vertical-align: middle;\n",
       "    }\n",
       "\n",
       "    .dataframe tbody tr th {\n",
       "        vertical-align: top;\n",
       "    }\n",
       "\n",
       "    .dataframe thead th {\n",
       "        text-align: right;\n",
       "    }\n",
       "</style>\n",
       "<table border=\"1\" class=\"dataframe\">\n",
       "  <thead>\n",
       "    <tr style=\"text-align: right;\">\n",
       "      <th></th>\n",
       "      <th>date</th>\n",
       "      <th>store_nbr</th>\n",
       "      <th>transactions</th>\n",
       "    </tr>\n",
       "  </thead>\n",
       "  <tbody>\n",
       "    <tr>\n",
       "      <th>83483</th>\n",
       "      <td>2017-08-15</td>\n",
       "      <td>50</td>\n",
       "      <td>2804</td>\n",
       "    </tr>\n",
       "    <tr>\n",
       "      <th>83484</th>\n",
       "      <td>2017-08-15</td>\n",
       "      <td>51</td>\n",
       "      <td>1573</td>\n",
       "    </tr>\n",
       "    <tr>\n",
       "      <th>83485</th>\n",
       "      <td>2017-08-15</td>\n",
       "      <td>52</td>\n",
       "      <td>2255</td>\n",
       "    </tr>\n",
       "    <tr>\n",
       "      <th>83486</th>\n",
       "      <td>2017-08-15</td>\n",
       "      <td>53</td>\n",
       "      <td>932</td>\n",
       "    </tr>\n",
       "    <tr>\n",
       "      <th>83487</th>\n",
       "      <td>2017-08-15</td>\n",
       "      <td>54</td>\n",
       "      <td>802</td>\n",
       "    </tr>\n",
       "  </tbody>\n",
       "</table>\n",
       "</div>"
      ],
      "text/plain": [
       "             date  store_nbr  transactions\n",
       "83483  2017-08-15         50          2804\n",
       "83484  2017-08-15         51          1573\n",
       "83485  2017-08-15         52          2255\n",
       "83486  2017-08-15         53           932\n",
       "83487  2017-08-15         54           802"
      ]
     },
     "execution_count": 21,
     "metadata": {},
     "output_type": "execute_result"
    }
   ],
   "source": [
    "transactions_df.tail()"
   ]
  },
  {
   "cell_type": "code",
   "execution_count": 22,
   "metadata": {},
   "outputs": [
    {
     "data": {
      "text/html": [
       "<div>\n",
       "<style scoped>\n",
       "    .dataframe tbody tr th:only-of-type {\n",
       "        vertical-align: middle;\n",
       "    }\n",
       "\n",
       "    .dataframe tbody tr th {\n",
       "        vertical-align: top;\n",
       "    }\n",
       "\n",
       "    .dataframe thead th {\n",
       "        text-align: right;\n",
       "    }\n",
       "</style>\n",
       "<table border=\"1\" class=\"dataframe\">\n",
       "  <thead>\n",
       "    <tr style=\"text-align: right;\">\n",
       "      <th></th>\n",
       "      <th>id</th>\n",
       "      <th>date</th>\n",
       "      <th>store_nbr</th>\n",
       "      <th>family</th>\n",
       "      <th>onpromotion</th>\n",
       "    </tr>\n",
       "  </thead>\n",
       "  <tbody>\n",
       "    <tr>\n",
       "      <th>0</th>\n",
       "      <td>3000888</td>\n",
       "      <td>2017-08-16</td>\n",
       "      <td>1</td>\n",
       "      <td>AUTOMOTIVE</td>\n",
       "      <td>0</td>\n",
       "    </tr>\n",
       "    <tr>\n",
       "      <th>1</th>\n",
       "      <td>3000889</td>\n",
       "      <td>2017-08-16</td>\n",
       "      <td>1</td>\n",
       "      <td>BABY CARE</td>\n",
       "      <td>0</td>\n",
       "    </tr>\n",
       "    <tr>\n",
       "      <th>2</th>\n",
       "      <td>3000890</td>\n",
       "      <td>2017-08-16</td>\n",
       "      <td>1</td>\n",
       "      <td>BEAUTY</td>\n",
       "      <td>2</td>\n",
       "    </tr>\n",
       "    <tr>\n",
       "      <th>3</th>\n",
       "      <td>3000891</td>\n",
       "      <td>2017-08-16</td>\n",
       "      <td>1</td>\n",
       "      <td>BEVERAGES</td>\n",
       "      <td>20</td>\n",
       "    </tr>\n",
       "    <tr>\n",
       "      <th>4</th>\n",
       "      <td>3000892</td>\n",
       "      <td>2017-08-16</td>\n",
       "      <td>1</td>\n",
       "      <td>BOOKS</td>\n",
       "      <td>0</td>\n",
       "    </tr>\n",
       "  </tbody>\n",
       "</table>\n",
       "</div>"
      ],
      "text/plain": [
       "        id       date  store_nbr      family  onpromotion\n",
       "0  3000888 2017-08-16          1  AUTOMOTIVE            0\n",
       "1  3000889 2017-08-16          1   BABY CARE            0\n",
       "2  3000890 2017-08-16          1      BEAUTY            2\n",
       "3  3000891 2017-08-16          1   BEVERAGES           20\n",
       "4  3000892 2017-08-16          1       BOOKS            0"
      ]
     },
     "execution_count": 22,
     "metadata": {},
     "output_type": "execute_result"
    }
   ],
   "source": [
    "test_df.head()"
   ]
  },
  {
   "cell_type": "code",
   "execution_count": 23,
   "metadata": {},
   "outputs": [],
   "source": [
    "def get_null_counts(df):\n",
    "    null_count_df = pd.DataFrame((df.isnull().sum()).sort_values(ascending=False).reset_index())\n",
    "    null_count_df.columns = ['column_name','null_counts']\n",
    "    null_count_df = null_count_df.query(\"column_name!='Sales'\")\n",
    "    return null_count_df"
   ]
  },
  {
   "cell_type": "code",
   "execution_count": 24,
   "metadata": {},
   "outputs": [
    {
     "data": {
      "text/html": [
       "<style type=\"text/css\">\n",
       "#T_711ab_row0_col1, #T_711ab_row1_col1, #T_711ab_row2_col1, #T_711ab_row3_col1, #T_711ab_row4_col1, #T_711ab_row5_col1 {\n",
       "  background-color: #ffffcc;\n",
       "  color: #000000;\n",
       "}\n",
       "</style>\n",
       "<table id=\"T_711ab\">\n",
       "  <thead>\n",
       "    <tr>\n",
       "      <th class=\"blank level0\" >&nbsp;</th>\n",
       "      <th id=\"T_711ab_level0_col0\" class=\"col_heading level0 col0\" >column_name</th>\n",
       "      <th id=\"T_711ab_level0_col1\" class=\"col_heading level0 col1\" >null_counts</th>\n",
       "    </tr>\n",
       "  </thead>\n",
       "  <tbody>\n",
       "    <tr>\n",
       "      <th id=\"T_711ab_level0_row0\" class=\"row_heading level0 row0\" >0</th>\n",
       "      <td id=\"T_711ab_row0_col0\" class=\"data row0 col0\" >id</td>\n",
       "      <td id=\"T_711ab_row0_col1\" class=\"data row0 col1\" >0</td>\n",
       "    </tr>\n",
       "    <tr>\n",
       "      <th id=\"T_711ab_level0_row1\" class=\"row_heading level0 row1\" >1</th>\n",
       "      <td id=\"T_711ab_row1_col0\" class=\"data row1 col0\" >date</td>\n",
       "      <td id=\"T_711ab_row1_col1\" class=\"data row1 col1\" >0</td>\n",
       "    </tr>\n",
       "    <tr>\n",
       "      <th id=\"T_711ab_level0_row2\" class=\"row_heading level0 row2\" >2</th>\n",
       "      <td id=\"T_711ab_row2_col0\" class=\"data row2 col0\" >store_nbr</td>\n",
       "      <td id=\"T_711ab_row2_col1\" class=\"data row2 col1\" >0</td>\n",
       "    </tr>\n",
       "    <tr>\n",
       "      <th id=\"T_711ab_level0_row3\" class=\"row_heading level0 row3\" >3</th>\n",
       "      <td id=\"T_711ab_row3_col0\" class=\"data row3 col0\" >family</td>\n",
       "      <td id=\"T_711ab_row3_col1\" class=\"data row3 col1\" >0</td>\n",
       "    </tr>\n",
       "    <tr>\n",
       "      <th id=\"T_711ab_level0_row4\" class=\"row_heading level0 row4\" >4</th>\n",
       "      <td id=\"T_711ab_row4_col0\" class=\"data row4 col0\" >sales</td>\n",
       "      <td id=\"T_711ab_row4_col1\" class=\"data row4 col1\" >0</td>\n",
       "    </tr>\n",
       "    <tr>\n",
       "      <th id=\"T_711ab_level0_row5\" class=\"row_heading level0 row5\" >5</th>\n",
       "      <td id=\"T_711ab_row5_col0\" class=\"data row5 col0\" >onpromotion</td>\n",
       "      <td id=\"T_711ab_row5_col1\" class=\"data row5 col1\" >0</td>\n",
       "    </tr>\n",
       "  </tbody>\n",
       "</table>\n"
      ],
      "text/plain": [
       "<pandas.io.formats.style.Styler at 0x7f1965016590>"
      ]
     },
     "execution_count": 24,
     "metadata": {},
     "output_type": "execute_result"
    }
   ],
   "source": [
    "null_= get_null_counts(train_df)\n",
    "null_.style.background_gradient(cmap='YlOrRd')"
   ]
  },
  {
   "attachments": {},
   "cell_type": "markdown",
   "metadata": {},
   "source": [
    "#### Quick baseline model"
   ]
  },
  {
   "cell_type": "code",
   "execution_count": 25,
   "metadata": {},
   "outputs": [],
   "source": [
    "dep_var = 'sales'"
   ]
  },
  {
   "cell_type": "code",
   "execution_count": 26,
   "metadata": {},
   "outputs": [],
   "source": [
    "# combined_df[dep_var] = np.log(combined_df[dep_var])\n",
    "# combined_df[dep_var] = np.log(combined_df[dep_var]).replace(0, np.finfo(float).eps))"
   ]
  },
  {
   "cell_type": "code",
   "execution_count": 27,
   "metadata": {},
   "outputs": [],
   "source": [
    "train_df[dep_var] = np.log(train_df[dep_var] + 1e-5)"
   ]
  },
  {
   "cell_type": "code",
   "execution_count": 28,
   "metadata": {},
   "outputs": [],
   "source": [
    "procs = [Categorify, FillMissing, Normalize]"
   ]
  },
  {
   "cell_type": "code",
   "execution_count": 29,
   "metadata": {},
   "outputs": [
    {
     "data": {
      "text/plain": [
       "3000883   2017-08-15\n",
       "3000884   2017-08-15\n",
       "3000885   2017-08-15\n",
       "3000886   2017-08-15\n",
       "3000887   2017-08-15\n",
       "Name: date, dtype: datetime64[ns]"
      ]
     },
     "execution_count": 29,
     "metadata": {},
     "output_type": "execute_result"
    }
   ],
   "source": [
    "train_df['date'].tail()"
   ]
  },
  {
   "cell_type": "code",
   "execution_count": 30,
   "metadata": {},
   "outputs": [
    {
     "data": {
      "text/plain": [
       "0           True\n",
       "1           True\n",
       "2           True\n",
       "3           True\n",
       "4           True\n",
       "           ...  \n",
       "3000883    False\n",
       "3000884    False\n",
       "3000885    False\n",
       "3000886    False\n",
       "3000887    False\n",
       "Name: date, Length: 3000888, dtype: bool"
      ]
     },
     "execution_count": 30,
     "metadata": {},
     "output_type": "execute_result"
    }
   ],
   "source": [
    "train_df['date'] < pd.to_datetime('2017-01-01')"
   ]
  },
  {
   "attachments": {},
   "cell_type": "markdown",
   "metadata": {},
   "source": [
    "In the interest of getting the baseline model up and running as quickly as possible, all training data will be before the earthquake. In the future the earthquake data will be incorporated, or dropped if it causes significant issues"
   ]
  },
  {
   "cell_type": "code",
   "execution_count": 31,
   "metadata": {},
   "outputs": [],
   "source": [
    "# cond = (df.date < 2016) | ((df.saleMonth<10) & (df.saleYear==2011))\n",
    "cond = train_df.date < pd.to_datetime(\"2016-04-01\")"
   ]
  },
  {
   "attachments": {},
   "cell_type": "markdown",
   "metadata": {},
   "source": [
    "Training and validation set indexes where `cond` is true or false"
   ]
  },
  {
   "cell_type": "code",
   "execution_count": 32,
   "metadata": {},
   "outputs": [],
   "source": [
    "train_idx = np.where( cond)[0]\n",
    "valid_idx = np.where(~cond)[0]"
   ]
  },
  {
   "cell_type": "code",
   "execution_count": 33,
   "metadata": {},
   "outputs": [
    {
     "data": {
      "text/plain": [
       "array([      0,       1,       2, ..., 2108103, 2108104, 2108105])"
      ]
     },
     "execution_count": 33,
     "metadata": {},
     "output_type": "execute_result"
    }
   ],
   "source": [
    "train_idx"
   ]
  },
  {
   "attachments": {},
   "cell_type": "markdown",
   "metadata": {},
   "source": [
    "Assign the training and validation indexs to splits as a tuple of lists"
   ]
  },
  {
   "cell_type": "code",
   "execution_count": 34,
   "metadata": {},
   "outputs": [],
   "source": [
    "splits = (list(train_idx), list(valid_idx))"
   ]
  },
  {
   "attachments": {},
   "cell_type": "markdown",
   "metadata": {},
   "source": [
    "Split continuous and categorical variables, with a max cardinality of 1"
   ]
  },
  {
   "cell_type": "code",
   "execution_count": 35,
   "metadata": {},
   "outputs": [],
   "source": [
    "cont, cat = cont_cat_split(train_df, 1, dep_var=dep_var)"
   ]
  },
  {
   "attachments": {},
   "cell_type": "markdown",
   "metadata": {},
   "source": [
    "Create tabular pandas object"
   ]
  },
  {
   "cell_type": "code",
   "execution_count": 36,
   "metadata": {},
   "outputs": [],
   "source": [
    "to = TabularPandas(train_df, procs, cat, cont, y_names=dep_var, splits=splits)"
   ]
  },
  {
   "cell_type": "code",
   "execution_count": 37,
   "metadata": {},
   "outputs": [
    {
     "data": {
      "text/plain": [
       "0         -11.512925\n",
       "1         -11.512925\n",
       "2         -11.512925\n",
       "3         -11.512925\n",
       "4         -11.512925\n",
       "             ...    \n",
       "2108101     5.935407\n",
       "2108102     4.599353\n",
       "2108103     7.185743\n",
       "2108104     1.098616\n",
       "2108105     3.051877\n",
       "Name: sales, Length: 2108106, dtype: float32"
      ]
     },
     "execution_count": 37,
     "metadata": {},
     "output_type": "execute_result"
    }
   ],
   "source": [
    "to.train.y"
   ]
  },
  {
   "cell_type": "code",
   "execution_count": 38,
   "metadata": {},
   "outputs": [],
   "source": [
    "xs, y = to.train.xs, to.train.y"
   ]
  },
  {
   "cell_type": "code",
   "execution_count": 39,
   "metadata": {},
   "outputs": [],
   "source": [
    "valid_xs, valid_y = to.valid.xs, to.valid.y"
   ]
  },
  {
   "cell_type": "code",
   "execution_count": 40,
   "metadata": {},
   "outputs": [
    {
     "data": {
      "text/html": [
       "<div>\n",
       "<style scoped>\n",
       "    .dataframe tbody tr th:only-of-type {\n",
       "        vertical-align: middle;\n",
       "    }\n",
       "\n",
       "    .dataframe tbody tr th {\n",
       "        vertical-align: top;\n",
       "    }\n",
       "\n",
       "    .dataframe thead th {\n",
       "        text-align: right;\n",
       "    }\n",
       "</style>\n",
       "<table border=\"1\" class=\"dataframe\">\n",
       "  <thead>\n",
       "    <tr style=\"text-align: right;\">\n",
       "      <th></th>\n",
       "      <th>id</th>\n",
       "      <th>date</th>\n",
       "      <th>store_nbr</th>\n",
       "      <th>family</th>\n",
       "      <th>sales</th>\n",
       "      <th>onpromotion</th>\n",
       "    </tr>\n",
       "  </thead>\n",
       "  <tbody>\n",
       "    <tr>\n",
       "      <th>0</th>\n",
       "      <td>-1.732050</td>\n",
       "      <td>1</td>\n",
       "      <td>-1.700267</td>\n",
       "      <td>1</td>\n",
       "      <td>-11.512925</td>\n",
       "      <td>-0.130362</td>\n",
       "    </tr>\n",
       "    <tr>\n",
       "      <th>1</th>\n",
       "      <td>-1.732048</td>\n",
       "      <td>1</td>\n",
       "      <td>-1.700267</td>\n",
       "      <td>2</td>\n",
       "      <td>-11.512925</td>\n",
       "      <td>-0.130362</td>\n",
       "    </tr>\n",
       "    <tr>\n",
       "      <th>2</th>\n",
       "      <td>-1.732047</td>\n",
       "      <td>1</td>\n",
       "      <td>-1.700267</td>\n",
       "      <td>3</td>\n",
       "      <td>-11.512925</td>\n",
       "      <td>-0.130362</td>\n",
       "    </tr>\n",
       "    <tr>\n",
       "      <th>3</th>\n",
       "      <td>-1.732045</td>\n",
       "      <td>1</td>\n",
       "      <td>-1.700267</td>\n",
       "      <td>4</td>\n",
       "      <td>-11.512925</td>\n",
       "      <td>-0.130362</td>\n",
       "    </tr>\n",
       "    <tr>\n",
       "      <th>4</th>\n",
       "      <td>-1.732043</td>\n",
       "      <td>1</td>\n",
       "      <td>-1.700267</td>\n",
       "      <td>5</td>\n",
       "      <td>-11.512925</td>\n",
       "      <td>-0.130362</td>\n",
       "    </tr>\n",
       "    <tr>\n",
       "      <th>...</th>\n",
       "      <td>...</td>\n",
       "      <td>...</td>\n",
       "      <td>...</td>\n",
       "      <td>...</td>\n",
       "      <td>...</td>\n",
       "      <td>...</td>\n",
       "    </tr>\n",
       "    <tr>\n",
       "      <th>3000883</th>\n",
       "      <td>3.199089</td>\n",
       "      <td>0</td>\n",
       "      <td>-1.186979</td>\n",
       "      <td>29</td>\n",
       "      <td>6.082522</td>\n",
       "      <td>-0.130362</td>\n",
       "    </tr>\n",
       "    <tr>\n",
       "      <th>3000884</th>\n",
       "      <td>3.199091</td>\n",
       "      <td>0</td>\n",
       "      <td>-1.186979</td>\n",
       "      <td>30</td>\n",
       "      <td>5.040537</td>\n",
       "      <td>0.004929</td>\n",
       "    </tr>\n",
       "    <tr>\n",
       "      <th>3000885</th>\n",
       "      <td>3.199092</td>\n",
       "      <td>0</td>\n",
       "      <td>-1.186979</td>\n",
       "      <td>31</td>\n",
       "      <td>7.791411</td>\n",
       "      <td>19.892806</td>\n",
       "    </tr>\n",
       "    <tr>\n",
       "      <th>3000886</th>\n",
       "      <td>3.199094</td>\n",
       "      <td>0</td>\n",
       "      <td>-1.186979</td>\n",
       "      <td>32</td>\n",
       "      <td>4.795791</td>\n",
       "      <td>0.951971</td>\n",
       "    </tr>\n",
       "    <tr>\n",
       "      <th>3000887</th>\n",
       "      <td>3.199096</td>\n",
       "      <td>0</td>\n",
       "      <td>-1.186979</td>\n",
       "      <td>33</td>\n",
       "      <td>2.772589</td>\n",
       "      <td>-0.130362</td>\n",
       "    </tr>\n",
       "  </tbody>\n",
       "</table>\n",
       "<p>3000888 rows × 6 columns</p>\n",
       "</div>"
      ],
      "text/plain": [
       "               id  date  store_nbr  family      sales  onpromotion\n",
       "0       -1.732050     1  -1.700267       1 -11.512925    -0.130362\n",
       "1       -1.732048     1  -1.700267       2 -11.512925    -0.130362\n",
       "2       -1.732047     1  -1.700267       3 -11.512925    -0.130362\n",
       "3       -1.732045     1  -1.700267       4 -11.512925    -0.130362\n",
       "4       -1.732043     1  -1.700267       5 -11.512925    -0.130362\n",
       "...           ...   ...        ...     ...        ...          ...\n",
       "3000883  3.199089     0  -1.186979      29   6.082522    -0.130362\n",
       "3000884  3.199091     0  -1.186979      30   5.040537     0.004929\n",
       "3000885  3.199092     0  -1.186979      31   7.791411    19.892806\n",
       "3000886  3.199094     0  -1.186979      32   4.795791     0.951971\n",
       "3000887  3.199096     0  -1.186979      33   2.772589    -0.130362\n",
       "\n",
       "[3000888 rows x 6 columns]"
      ]
     },
     "execution_count": 40,
     "metadata": {},
     "output_type": "execute_result"
    }
   ],
   "source": [
    "to.items"
   ]
  },
  {
   "attachments": {},
   "cell_type": "markdown",
   "metadata": {},
   "source": [
    "#### Decision Tree Regressor"
   ]
  },
  {
   "attachments": {},
   "cell_type": "markdown",
   "metadata": {},
   "source": [
    "Create `DecisionTreeRegressor` object, ensuring at least 25 sales records per leaf node"
   ]
  },
  {
   "cell_type": "code",
   "execution_count": 41,
   "metadata": {},
   "outputs": [
    {
     "data": {
      "text/html": [
       "<style>#sk-container-id-1 {color: black;background-color: white;}#sk-container-id-1 pre{padding: 0;}#sk-container-id-1 div.sk-toggleable {background-color: white;}#sk-container-id-1 label.sk-toggleable__label {cursor: pointer;display: block;width: 100%;margin-bottom: 0;padding: 0.3em;box-sizing: border-box;text-align: center;}#sk-container-id-1 label.sk-toggleable__label-arrow:before {content: \"▸\";float: left;margin-right: 0.25em;color: #696969;}#sk-container-id-1 label.sk-toggleable__label-arrow:hover:before {color: black;}#sk-container-id-1 div.sk-estimator:hover label.sk-toggleable__label-arrow:before {color: black;}#sk-container-id-1 div.sk-toggleable__content {max-height: 0;max-width: 0;overflow: hidden;text-align: left;background-color: #f0f8ff;}#sk-container-id-1 div.sk-toggleable__content pre {margin: 0.2em;color: black;border-radius: 0.25em;background-color: #f0f8ff;}#sk-container-id-1 input.sk-toggleable__control:checked~div.sk-toggleable__content {max-height: 200px;max-width: 100%;overflow: auto;}#sk-container-id-1 input.sk-toggleable__control:checked~label.sk-toggleable__label-arrow:before {content: \"▾\";}#sk-container-id-1 div.sk-estimator input.sk-toggleable__control:checked~label.sk-toggleable__label {background-color: #d4ebff;}#sk-container-id-1 div.sk-label input.sk-toggleable__control:checked~label.sk-toggleable__label {background-color: #d4ebff;}#sk-container-id-1 input.sk-hidden--visually {border: 0;clip: rect(1px 1px 1px 1px);clip: rect(1px, 1px, 1px, 1px);height: 1px;margin: -1px;overflow: hidden;padding: 0;position: absolute;width: 1px;}#sk-container-id-1 div.sk-estimator {font-family: monospace;background-color: #f0f8ff;border: 1px dotted black;border-radius: 0.25em;box-sizing: border-box;margin-bottom: 0.5em;}#sk-container-id-1 div.sk-estimator:hover {background-color: #d4ebff;}#sk-container-id-1 div.sk-parallel-item::after {content: \"\";width: 100%;border-bottom: 1px solid gray;flex-grow: 1;}#sk-container-id-1 div.sk-label:hover label.sk-toggleable__label {background-color: #d4ebff;}#sk-container-id-1 div.sk-serial::before {content: \"\";position: absolute;border-left: 1px solid gray;box-sizing: border-box;top: 0;bottom: 0;left: 50%;z-index: 0;}#sk-container-id-1 div.sk-serial {display: flex;flex-direction: column;align-items: center;background-color: white;padding-right: 0.2em;padding-left: 0.2em;position: relative;}#sk-container-id-1 div.sk-item {position: relative;z-index: 1;}#sk-container-id-1 div.sk-parallel {display: flex;align-items: stretch;justify-content: center;background-color: white;position: relative;}#sk-container-id-1 div.sk-item::before, #sk-container-id-1 div.sk-parallel-item::before {content: \"\";position: absolute;border-left: 1px solid gray;box-sizing: border-box;top: 0;bottom: 0;left: 50%;z-index: -1;}#sk-container-id-1 div.sk-parallel-item {display: flex;flex-direction: column;z-index: 1;position: relative;background-color: white;}#sk-container-id-1 div.sk-parallel-item:first-child::after {align-self: flex-end;width: 50%;}#sk-container-id-1 div.sk-parallel-item:last-child::after {align-self: flex-start;width: 50%;}#sk-container-id-1 div.sk-parallel-item:only-child::after {width: 0;}#sk-container-id-1 div.sk-dashed-wrapped {border: 1px dashed gray;margin: 0 0.4em 0.5em 0.4em;box-sizing: border-box;padding-bottom: 0.4em;background-color: white;}#sk-container-id-1 div.sk-label label {font-family: monospace;font-weight: bold;display: inline-block;line-height: 1.2em;}#sk-container-id-1 div.sk-label-container {text-align: center;}#sk-container-id-1 div.sk-container {/* jupyter's `normalize.less` sets `[hidden] { display: none; }` but bootstrap.min.css set `[hidden] { display: none !important; }` so we also need the `!important` here to be able to override the default hidden behavior on the sphinx rendered scikit-learn.org. See: https://github.com/scikit-learn/scikit-learn/issues/21755 */display: inline-block !important;position: relative;}#sk-container-id-1 div.sk-text-repr-fallback {display: none;}</style><div id=\"sk-container-id-1\" class=\"sk-top-container\"><div class=\"sk-text-repr-fallback\"><pre>DecisionTreeRegressor(min_samples_leaf=25)</pre><b>In a Jupyter environment, please rerun this cell to show the HTML representation or trust the notebook. <br />On GitHub, the HTML representation is unable to render, please try loading this page with nbviewer.org.</b></div><div class=\"sk-container\" hidden><div class=\"sk-item\"><div class=\"sk-estimator sk-toggleable\"><input class=\"sk-toggleable__control sk-hidden--visually\" id=\"sk-estimator-id-1\" type=\"checkbox\" checked><label for=\"sk-estimator-id-1\" class=\"sk-toggleable__label sk-toggleable__label-arrow\">DecisionTreeRegressor</label><div class=\"sk-toggleable__content\"><pre>DecisionTreeRegressor(min_samples_leaf=25)</pre></div></div></div></div></div>"
      ],
      "text/plain": [
       "DecisionTreeRegressor(min_samples_leaf=25)"
      ]
     },
     "execution_count": 41,
     "metadata": {},
     "output_type": "execute_result"
    }
   ],
   "source": [
    "m = DecisionTreeRegressor(min_samples_leaf=25)\n",
    "m.fit(xs, y)"
   ]
  },
  {
   "cell_type": "code",
   "execution_count": 42,
   "metadata": {},
   "outputs": [],
   "source": [
    "# draw_tree(m, xs, size=12, leaves_parallel=True, precision=2 )"
   ]
  },
  {
   "attachments": {},
   "cell_type": "markdown",
   "metadata": {},
   "source": [
    "Function to compute *mean square error*"
   ]
  },
  {
   "cell_type": "code",
   "execution_count": 43,
   "metadata": {},
   "outputs": [],
   "source": [
    "def r_mse(pred, y):\n",
    "    return round(math.sqrt(((pred-y)**2).mean()), 6)"
   ]
  },
  {
   "attachments": {},
   "cell_type": "markdown",
   "metadata": {},
   "source": [
    "Function to run `r_mse` prediction on a model"
   ]
  },
  {
   "cell_type": "code",
   "execution_count": 44,
   "metadata": {},
   "outputs": [],
   "source": [
    "def m_rmse(m, xs, y):\n",
    "    return r_mse(m.predict(xs), y)"
   ]
  },
  {
   "attachments": {},
   "cell_type": "markdown",
   "metadata": {},
   "source": [
    "Quick score check on the training set"
   ]
  },
  {
   "cell_type": "code",
   "execution_count": 45,
   "metadata": {},
   "outputs": [
    {
     "data": {
      "text/plain": [
       "2.199012"
      ]
     },
     "execution_count": 45,
     "metadata": {},
     "output_type": "execute_result"
    }
   ],
   "source": [
    "m_rmse(m, xs, y)"
   ]
  },
  {
   "attachments": {},
   "cell_type": "markdown",
   "metadata": {},
   "source": [
    "Quick check of model score on the validation sets"
   ]
  },
  {
   "cell_type": "code",
   "execution_count": 46,
   "metadata": {},
   "outputs": [
    {
     "data": {
      "text/plain": [
       "3.849907"
      ]
     },
     "execution_count": 46,
     "metadata": {},
     "output_type": "execute_result"
    }
   ],
   "source": [
    "m_rmse(m, valid_xs, valid_y)"
   ]
  },
  {
   "attachments": {},
   "cell_type": "markdown",
   "metadata": {},
   "source": [
    "Get the number of leaves that were created at `min_samples_leaf=25`"
   ]
  },
  {
   "cell_type": "code",
   "execution_count": 47,
   "metadata": {},
   "outputs": [
    {
     "data": {
      "text/plain": [
       "46939"
      ]
     },
     "execution_count": 47,
     "metadata": {},
     "output_type": "execute_result"
    }
   ],
   "source": [
    "m.get_n_leaves()"
   ]
  },
  {
   "attachments": {},
   "cell_type": "markdown",
   "metadata": {},
   "source": [
    "#### Random Forest Regressor"
   ]
  },
  {
   "attachments": {},
   "cell_type": "markdown",
   "metadata": {},
   "source": [
    "Create a function `rf` for faster repeated variations"
   ]
  },
  {
   "cell_type": "code",
   "execution_count": 49,
   "metadata": {},
   "outputs": [],
   "source": [
    "def rf(xs, y, n_estimators=40, max_samples=200_000, max_features=0.5, min_samples_leaf=5, **kwargs):\n",
    "    return RandomForestRegressor(n_jobs=-1, n_estimators=n_estimators, \n",
    "                                 max_samples=max_samples, max_features=max_features,\n",
    "                                 min_samples_leaf=min_samples_leaf, oob_score=True).fit(xs, y)"
   ]
  },
  {
   "cell_type": "code",
   "execution_count": 50,
   "metadata": {},
   "outputs": [],
   "source": [
    "m = rf(xs, y)"
   ]
  },
  {
   "cell_type": "code",
   "execution_count": 51,
   "metadata": {},
   "outputs": [
    {
     "data": {
      "text/plain": [
       "(2.637344, 4.169406)"
      ]
     },
     "execution_count": 51,
     "metadata": {},
     "output_type": "execute_result"
    }
   ],
   "source": [
    "m_rmse(m, xs, y), m_rmse(m, valid_xs, valid_y)"
   ]
  },
  {
   "cell_type": "code",
   "execution_count": 52,
   "metadata": {},
   "outputs": [
    {
     "data": {
      "text/plain": [
       "[DecisionTreeRegressor(max_features=0.5, min_samples_leaf=5,\n",
       "                       random_state=1659498278),\n",
       " DecisionTreeRegressor(max_features=0.5, min_samples_leaf=5,\n",
       "                       random_state=215876332),\n",
       " DecisionTreeRegressor(max_features=0.5, min_samples_leaf=5,\n",
       "                       random_state=261179676),\n",
       " DecisionTreeRegressor(max_features=0.5, min_samples_leaf=5,\n",
       "                       random_state=495096495),\n",
       " DecisionTreeRegressor(max_features=0.5, min_samples_leaf=5,\n",
       "                       random_state=826578914),\n",
       " DecisionTreeRegressor(max_features=0.5, min_samples_leaf=5,\n",
       "                       random_state=665947520),\n",
       " DecisionTreeRegressor(max_features=0.5, min_samples_leaf=5,\n",
       "                       random_state=1777393527),\n",
       " DecisionTreeRegressor(max_features=0.5, min_samples_leaf=5,\n",
       "                       random_state=225462780),\n",
       " DecisionTreeRegressor(max_features=0.5, min_samples_leaf=5,\n",
       "                       random_state=836027699),\n",
       " DecisionTreeRegressor(max_features=0.5, min_samples_leaf=5,\n",
       "                       random_state=450361693),\n",
       " DecisionTreeRegressor(max_features=0.5, min_samples_leaf=5,\n",
       "                       random_state=96297601),\n",
       " DecisionTreeRegressor(max_features=0.5, min_samples_leaf=5,\n",
       "                       random_state=1785317091),\n",
       " DecisionTreeRegressor(max_features=0.5, min_samples_leaf=5,\n",
       "                       random_state=682264445),\n",
       " DecisionTreeRegressor(max_features=0.5, min_samples_leaf=5,\n",
       "                       random_state=1404660305),\n",
       " DecisionTreeRegressor(max_features=0.5, min_samples_leaf=5,\n",
       "                       random_state=632965543),\n",
       " DecisionTreeRegressor(max_features=0.5, min_samples_leaf=5,\n",
       "                       random_state=1199691842),\n",
       " DecisionTreeRegressor(max_features=0.5, min_samples_leaf=5,\n",
       "                       random_state=1398803855),\n",
       " DecisionTreeRegressor(max_features=0.5, min_samples_leaf=5,\n",
       "                       random_state=670640201),\n",
       " DecisionTreeRegressor(max_features=0.5, min_samples_leaf=5,\n",
       "                       random_state=1630025074),\n",
       " DecisionTreeRegressor(max_features=0.5, min_samples_leaf=5,\n",
       "                       random_state=1332511341),\n",
       " DecisionTreeRegressor(max_features=0.5, min_samples_leaf=5,\n",
       "                       random_state=2056304124),\n",
       " DecisionTreeRegressor(max_features=0.5, min_samples_leaf=5,\n",
       "                       random_state=1889686066),\n",
       " DecisionTreeRegressor(max_features=0.5, min_samples_leaf=5,\n",
       "                       random_state=1617398397),\n",
       " DecisionTreeRegressor(max_features=0.5, min_samples_leaf=5,\n",
       "                       random_state=1138571140),\n",
       " DecisionTreeRegressor(max_features=0.5, min_samples_leaf=5,\n",
       "                       random_state=1817492465),\n",
       " DecisionTreeRegressor(max_features=0.5, min_samples_leaf=5,\n",
       "                       random_state=491547939),\n",
       " DecisionTreeRegressor(max_features=0.5, min_samples_leaf=5,\n",
       "                       random_state=1010915882),\n",
       " DecisionTreeRegressor(max_features=0.5, min_samples_leaf=5,\n",
       "                       random_state=1241013546),\n",
       " DecisionTreeRegressor(max_features=0.5, min_samples_leaf=5,\n",
       "                       random_state=770854971),\n",
       " DecisionTreeRegressor(max_features=0.5, min_samples_leaf=5,\n",
       "                       random_state=903534074),\n",
       " DecisionTreeRegressor(max_features=0.5, min_samples_leaf=5,\n",
       "                       random_state=682370988),\n",
       " DecisionTreeRegressor(max_features=0.5, min_samples_leaf=5,\n",
       "                       random_state=1333286716),\n",
       " DecisionTreeRegressor(max_features=0.5, min_samples_leaf=5,\n",
       "                       random_state=401750092),\n",
       " DecisionTreeRegressor(max_features=0.5, min_samples_leaf=5,\n",
       "                       random_state=1978138278),\n",
       " DecisionTreeRegressor(max_features=0.5, min_samples_leaf=5,\n",
       "                       random_state=1143196632),\n",
       " DecisionTreeRegressor(max_features=0.5, min_samples_leaf=5,\n",
       "                       random_state=394103195),\n",
       " DecisionTreeRegressor(max_features=0.5, min_samples_leaf=5,\n",
       "                       random_state=1667035764),\n",
       " DecisionTreeRegressor(max_features=0.5, min_samples_leaf=5,\n",
       "                       random_state=860334960),\n",
       " DecisionTreeRegressor(max_features=0.5, min_samples_leaf=5,\n",
       "                       random_state=1964437180),\n",
       " DecisionTreeRegressor(max_features=0.5, min_samples_leaf=5,\n",
       "                       random_state=1751936713)]"
      ]
     },
     "execution_count": 52,
     "metadata": {},
     "output_type": "execute_result"
    }
   ],
   "source": [
    "m.estimators_"
   ]
  },
  {
   "attachments": {},
   "cell_type": "markdown",
   "metadata": {},
   "source": [
    "Check the impact of n_estimators"
   ]
  },
  {
   "cell_type": "code",
   "execution_count": 59,
   "metadata": {},
   "outputs": [
    {
     "name": "stderr",
     "output_type": "stream",
     "text": [
      "/home/petewin/mambaforge/lib/python3.10/site-packages/sklearn/base.py:409: UserWarning: X does not have valid feature names, but RandomForestRegressor was fitted with feature names\n"
     ]
    },
    {
     "data": {
      "text/plain": [
       "-0.8446616855120735"
      ]
     },
     "execution_count": 59,
     "metadata": {},
     "output_type": "execute_result"
    }
   ],
   "source": [
    "m.predict(valid_xs.values)[0]"
   ]
  },
  {
   "cell_type": "code",
   "execution_count": 56,
   "metadata": {},
   "outputs": [],
   "source": [
    "preds = np.stack([t.predict(valid_xs.values) for t in m.estimators_])"
   ]
  },
  {
   "cell_type": "code",
   "execution_count": 62,
   "metadata": {},
   "outputs": [
    {
     "data": {
      "text/plain": [
       "array([[ 1.44068379e+00, -1.15129251e+01, -8.75541202e+00, ...,  1.37339020e+00, -1.15129251e+01,  3.35359293e+00],\n",
       "       [-1.88669122e+00, -1.15129251e+01, -9.21914403e-01, ...,  7.74713961e+00,  4.49681465e+00, -1.15129251e+01],\n",
       "       [-6.28279467e-03, -1.15129251e+01,  3.84459185e+00, ...,  7.24458170e+00,  3.99534098e+00,  2.57146299e+00],\n",
       "       ...,\n",
       "       [ 1.52718495e+00, -7.51596057e-01, -7.51596057e-01, ...,  6.94781521e+00,  3.13169422e+00,  2.28571391e-01],\n",
       "       [-3.10162167e-01, -3.10162167e-01, -3.10162167e-01, ...,  8.32971561e+00,  4.38210013e+00, -8.59740033e+00],\n",
       "       [ 1.84610086e+00, -1.15129251e+01,  9.45014594e-01, ...,  7.75005317e+00,  4.88352414e+00, -2.34139930e+00]])"
      ]
     },
     "execution_count": 62,
     "metadata": {},
     "output_type": "execute_result"
    }
   ],
   "source": [
    "preds"
   ]
  },
  {
   "cell_type": "code",
   "execution_count": 60,
   "metadata": {},
   "outputs": [
    {
     "data": {
      "text/plain": [
       "6.400219"
      ]
     },
     "execution_count": 60,
     "metadata": {},
     "output_type": "execute_result"
    }
   ],
   "source": [
    "r_mse(preds.mean(), valid_y)"
   ]
  },
  {
   "attachments": {},
   "cell_type": "markdown",
   "metadata": {},
   "source": [
    "`preds.mean(0)` will give the same results as the random forest"
   ]
  },
  {
   "cell_type": "code",
   "execution_count": 57,
   "metadata": {},
   "outputs": [
    {
     "data": {
      "text/plain": [
       "4.169406"
      ]
     },
     "execution_count": 57,
     "metadata": {},
     "output_type": "execute_result"
    }
   ],
   "source": [
    "r_mse(preds.mean(0), valid_y)"
   ]
  },
  {
   "attachments": {},
   "cell_type": "markdown",
   "metadata": {},
   "source": [
    "Plot incremental increases in number of trees and resulting change"
   ]
  },
  {
   "cell_type": "code",
   "execution_count": 63,
   "metadata": {},
   "outputs": [
    {
     "data": {
      "text/plain": [
       "array([[ 1.44068379e+00, -1.15129251e+01, -8.75541202e+00, ...,  1.37339020e+00, -1.15129251e+01,  3.35359293e+00],\n",
       "       [-1.88669122e+00, -1.15129251e+01, -9.21914403e-01, ...,  7.74713961e+00,  4.49681465e+00, -1.15129251e+01],\n",
       "       [-6.28279467e-03, -1.15129251e+01,  3.84459185e+00, ...,  7.24458170e+00,  3.99534098e+00,  2.57146299e+00],\n",
       "       ...,\n",
       "       [ 1.52718495e+00, -7.51596057e-01, -7.51596057e-01, ...,  6.94781521e+00,  3.13169422e+00,  2.28571391e-01],\n",
       "       [-3.10162167e-01, -3.10162167e-01, -3.10162167e-01, ...,  8.32971561e+00,  4.38210013e+00, -8.59740033e+00],\n",
       "       [ 1.84610086e+00, -1.15129251e+01,  9.45014594e-01, ...,  7.75005317e+00,  4.88352414e+00, -2.34139930e+00]])"
      ]
     },
     "execution_count": 63,
     "metadata": {},
     "output_type": "execute_result"
    }
   ],
   "source": [
    "preds[:]"
   ]
  },
  {
   "attachments": {},
   "cell_type": "markdown",
   "metadata": {},
   "source": [
    "get `r_mse` value for each predictions in range 40"
   ]
  },
  {
   "cell_type": "code",
   "execution_count": 64,
   "metadata": {},
   "outputs": [
    {
     "data": {
      "image/png": "[encoded data removed]",
      "text/plain": [
       "<Figure size 640x480 with 1 Axes>"
      ]
     },
     "metadata": {},
     "output_type": "display_data"
    }
   ],
   "source": [
    "plt.plot([r_mse(preds[:i+1].mean(0), valid_y) for i in range(40)]);"
   ]
  },
  {
   "attachments": {},
   "cell_type": "markdown",
   "metadata": {},
   "source": [
    "Check OOB error"
   ]
  },
  {
   "cell_type": "code",
   "execution_count": 65,
   "metadata": {},
   "outputs": [
    {
     "data": {
      "text/plain": [
       "2.715385"
      ]
     },
     "execution_count": 65,
     "metadata": {},
     "output_type": "execute_result"
    }
   ],
   "source": [
    "r_mse(m.oob_prediction_, y)"
   ]
  },
  {
   "attachments": {},
   "cell_type": "markdown",
   "metadata": {},
   "source": [
    "Get STD deviation over all trees, for each *sales* item"
   ]
  },
  {
   "cell_type": "code",
   "execution_count": 66,
   "metadata": {},
   "outputs": [],
   "source": [
    "preds_std = preds.std(0)"
   ]
  },
  {
   "attachments": {},
   "cell_type": "markdown",
   "metadata": {},
   "source": [
    "Check STD deviation of first 5 rows of validation set"
   ]
  },
  {
   "cell_type": "code",
   "execution_count": 67,
   "metadata": {},
   "outputs": [
    {
     "data": {
      "text/plain": [
       "array([3.3053311 , 4.39889521, 4.26608112, 0.69927518, 2.67323962])"
      ]
     },
     "execution_count": 67,
     "metadata": {},
     "output_type": "execute_result"
    }
   ],
   "source": [
    "preds_std[:5]"
   ]
  },
  {
   "attachments": {},
   "cell_type": "markdown",
   "metadata": {},
   "source": [
    "Create a function to return a dataframe with *feature importance*"
   ]
  },
  {
   "cell_type": "code",
   "execution_count": 72,
   "metadata": {},
   "outputs": [],
   "source": [
    "def rf_feat_importance(m, df):\n",
    "    return pd.DataFrame({'cols':df.columns, 'imp': m.feature_importances_}).sort_values('imp', ascending=False)"
   ]
  },
  {
   "cell_type": "code",
   "execution_count": 73,
   "metadata": {},
   "outputs": [],
   "source": [
    "fi = rf_feat_importance(m, xs)"
   ]
  },
  {
   "cell_type": "code",
   "execution_count": 74,
   "metadata": {},
   "outputs": [
    {
     "data": {
      "text/html": [
       "<div>\n",
       "<style scoped>\n",
       "    .dataframe tbody tr th:only-of-type {\n",
       "        vertical-align: middle;\n",
       "    }\n",
       "\n",
       "    .dataframe tbody tr th {\n",
       "        vertical-align: top;\n",
       "    }\n",
       "\n",
       "    .dataframe thead th {\n",
       "        text-align: right;\n",
       "    }\n",
       "</style>\n",
       "<table border=\"1\" class=\"dataframe\">\n",
       "  <thead>\n",
       "    <tr style=\"text-align: right;\">\n",
       "      <th></th>\n",
       "      <th>cols</th>\n",
       "      <th>imp</th>\n",
       "    </tr>\n",
       "  </thead>\n",
       "  <tbody>\n",
       "    <tr>\n",
       "      <th>1</th>\n",
       "      <td>family</td>\n",
       "      <td>0.517971</td>\n",
       "    </tr>\n",
       "    <tr>\n",
       "      <th>3</th>\n",
       "      <td>store_nbr</td>\n",
       "      <td>0.219334</td>\n",
       "    </tr>\n",
       "    <tr>\n",
       "      <th>4</th>\n",
       "      <td>onpromotion</td>\n",
       "      <td>0.114358</td>\n",
       "    </tr>\n",
       "    <tr>\n",
       "      <th>2</th>\n",
       "      <td>id</td>\n",
       "      <td>0.089109</td>\n",
       "    </tr>\n",
       "    <tr>\n",
       "      <th>0</th>\n",
       "      <td>date</td>\n",
       "      <td>0.059228</td>\n",
       "    </tr>\n",
       "  </tbody>\n",
       "</table>\n",
       "</div>"
      ],
      "text/plain": [
       "          cols       imp\n",
       "1       family  0.517971\n",
       "3    store_nbr  0.219334\n",
       "4  onpromotion  0.114358\n",
       "2           id  0.089109\n",
       "0         date  0.059228"
      ]
     },
     "execution_count": 74,
     "metadata": {},
     "output_type": "execute_result"
    }
   ],
   "source": [
    "fi[:10]"
   ]
  },
  {
   "cell_type": "code",
   "execution_count": null,
   "metadata": {},
   "outputs": [],
   "source": []
  }
 ],
 "metadata": {
  "kernelspec": {
   "display_name": "base",
   "language": "python",
   "name": "python3"
  },
  "language_info": {
   "codemirror_mode": {
    "name": "ipython",
    "version": 3
   },
   "file_extension": ".py",
   "mimetype": "text/x-python",
   "name": "python",
   "nbconvert_exporter": "python",
   "pygments_lexer": "ipython3",
   "version": "3.10.6"
  },
  "orig_nbformat": 4,
  "vscode": {
   "interpreter": {
    "hash": "f4702a165a03ade35e40e0221d250a3a44a346cfc16a49ce6d051d1595069b46"
   }
  }
 },
 "nbformat": 4,
 "nbformat_minor": 2
}
